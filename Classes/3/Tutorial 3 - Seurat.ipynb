{
 "cells": [
  {
   "cell_type": "markdown",
   "metadata": {},
   "source": [
    "# Tutorial 3 - Working with Seurat"
   ]
  },
  {
   "cell_type": "markdown",
   "metadata": {},
   "source": [
    "## Load required packages"
   ]
  },
  {
   "cell_type": "markdown",
   "metadata": {},
   "source": [
    "'Base' R's functionality can be extended by loading 'libraries' or 'packages' written by others. For this tutorial, we are featuring the Seurat library written by Rahul Satija's lab at the New York Genome Center."
   ]
  },
  {
   "cell_type": "code",
   "execution_count": null,
   "metadata": {},
   "outputs": [],
   "source": [
    "# Similar to python, after installing the packages with \"install.packages('name')\" from Base R or\n",
    "# \"BiocManager::install('name') from Bioconductor they can be loaded with the \"library(name) command\"\n",
    "library(dplyr)\n",
    "library(Seurat)\n",
    "library(useful)\n",
    "library(RColorBrewer)\n",
    "library(plotly)\n",
    "library(here)\n",
    "library(genieclust)\n",
    "library(grid)\n",
    "library(gridExtra)\n",
    "library(matrixStats)"
   ]
  },
  {
   "cell_type": "code",
   "execution_count": null,
   "metadata": {},
   "outputs": [],
   "source": [
    "# Check the location of the present working directory\n",
    "# This should be /home/<SUNetID>/BIOC281/Classes/3/ on FarmShare\n",
    "# This should be /home/groups/<GroupName>/BIOC281/Classes/3/ on Sherlock\n",
    "here()"
   ]
  },
  {
   "cell_type": "markdown",
   "metadata": {},
   "source": [
    "## Data and metadata ingest"
   ]
  },
  {
   "cell_type": "markdown",
   "metadata": {},
   "source": [
    "While we could read in the data and metadata as CSVs, we have decided to skip this to save time. We are leaving the code blocks here so you can see how it is done. Please read through them!"
   ]
  },
  {
   "cell_type": "code",
   "execution_count": null,
   "metadata": {},
   "outputs": [],
   "source": [
    "# Read in metadata, which we downloaded as a comma separated values (CSV) table\n",
    "# row.names=1 tells the read.csv command that the first column in the CSV contains the rownames\n",
    "# By default, the first row is assumed to be the colnames (this can be overriden with header=FALSE)\n",
    "#\n",
    "# The here() command allows us to easily construct file paths. here('krasnow_hlca_10x_metadata.csv') \n",
    "# will evaluate to '/home/<SUNetID>/BIOC281/Classes/3/krasnow_hlca_10x_metadata.csv' on FarmShare\n",
    "#meta_table <- read.csv(file = here('krasnow_hlca_10x_metadata.csv'), row.names = 1)\n",
    "\n",
    "# The corner() command lets us look at the top left corner of the new meta_data variable\n",
    "#corner(meta_table, corner = \"topleft\")"
   ]
  },
  {
   "cell_type": "code",
   "execution_count": null,
   "metadata": {},
   "outputs": [],
   "source": [
    "# Read in the table of UMIs detected of each gene for each cell\n",
    "#umi_table <- read.csv(file = here('krasnow_hlca_10x_UMIs.csv'), row.names = 1)\n",
    "\n",
    "# Specific columns and rows from data frames (R speak for tables) can be accessed or subset\n",
    "# with the syntax \"table[rows, columns]\". meta_table['P2_1_AACACGTTCGATCCCT','nGene']\n",
    "# will evaluate to 1185, while meta_table[,'nGene'] will return a every cells' gene count\n",
    "#\n",
    "# Columns from a data frame can also be accessed with a \"$\" followed by their name\n",
    "# meta_table$patient will return a vector of each cell's patient ID (1, 2 or 3)\n",
    "#\n",
    "# Operators (greater than, equal to, or less than) can be used to select the rows from specific\n",
    "# patients. meta_table$patient == 1 will return a vector with TRUE for all cells from the \n",
    "# first patient and FALSE for all others. These TRUE/FALSE vectors (known as booleans) \n",
    "# can be passed into the table[rows, columns] format to select specific rows or columns\n",
    "# Create two new dataframes that contain the UMIs and metadata for cells from the first patient\n",
    "# Metadata usually has cells as rows, while UMI tables usually have cells as columns\n",
    "#umi_table_1 <- umi_table[,rownames(meta_table[meta_table$patient == 1,])]\n",
    "#meta_table_1 <- meta_table[colnames(umi_table_1),]\n",
    "\n",
    "# Again we use the corner() command to check the first three rows and columns\n",
    "# Note the cells all start with \"P1\", indicating they came from the first patient\n",
    "#corner(umi_table_1, r = 3, c = 3)"
   ]
  },
  {
   "cell_type": "code",
   "execution_count": null,
   "metadata": {},
   "outputs": [],
   "source": [
    "# Create the Seurat object and associate the metadata\n",
    "#tiss <- CreateSeuratObject(counts = umi_table_1, project = \"BIOC 281\")\n",
    "#tiss <- AddMetaData(tiss, meta_table_1)"
   ]
  },
  {
   "cell_type": "code",
   "execution_count": null,
   "metadata": {},
   "outputs": [],
   "source": [
    "# Individual R objects can be saved to the disk and read in later in \"RDS\" format\n",
    "# Reading in an RDS of a Seurat object, which stores the UMI table as a sparse matrix (excludes 0s)\n",
    "# is substantially faster than reading in a \"dense\" CSV\n",
    "# Write the Seurat object to an RDS file\n",
    "#saveRDS(tiss, file = here('krasnow_hlca_10x_raw.rds'))"
   ]
  },
  {
   "cell_type": "code",
   "execution_count": null,
   "metadata": {},
   "outputs": [],
   "source": [
    "# Read in the HLCA dataset from an RDS object\n",
    "tiss = readRDS(file = \"krasnow_hlca_10x_raw.rds\")"
   ]
  },
  {
   "cell_type": "markdown",
   "metadata": {},
   "source": [
    "## Explore the Seurat object"
   ]
  },
  {
   "cell_type": "code",
   "execution_count": null,
   "metadata": {},
   "outputs": [],
   "source": [
    "# The Seurat object organizes many peices of information (such as the metadata and UMI table) onto\n",
    "# different shelves that can be accessed with an \"@\" followed by their name. Hitting TAB after typing\n",
    "# \"tiss@\" will reveal the different shelves inside, we demonstrate how to access important ones below.\n",
    "tiss"
   ]
  },
  {
   "cell_type": "code",
   "execution_count": null,
   "metadata": {},
   "outputs": [],
   "source": [
    "# The head() function, similar to corner(), can be used to show parts of a vector\n",
    "# Current identities for all cells are found in tiss@active.ident, and we're using head() to show 5\n",
    "head(tiss@active.ident, 5)"
   ]
  },
  {
   "cell_type": "code",
   "execution_count": null,
   "metadata": {},
   "outputs": [],
   "source": [
    "# Top left corner of the metadata\n",
    "corner(tiss@meta.data)"
   ]
  },
  {
   "cell_type": "code",
   "execution_count": null,
   "metadata": {},
   "outputs": [],
   "source": [
    "# Pull specific piece of metadata from the first 5 cells\n",
    "tiss@meta.data$nGene[1:5]"
   ]
  },
  {
   "cell_type": "code",
   "execution_count": null,
   "metadata": {},
   "outputs": [],
   "source": [
    "# UMI table\n",
    "tiss@assays$RNA"
   ]
  },
  {
   "cell_type": "code",
   "execution_count": null,
   "metadata": {},
   "outputs": [],
   "source": [
    "# UMIs of specific genes from the first 5 cells\n",
    "tiss@assays$RNA@counts[c('ACTB', 'UBB'), 1:5]"
   ]
  },
  {
   "cell_type": "markdown",
   "metadata": {},
   "source": [
    "## Basic quality control"
   ]
  },
  {
   "cell_type": "markdown",
   "metadata": {},
   "source": [
    "Low quality cells are usually excluded from analysis on the basis of having few reads/UMIs or genes detected. Some also exclude cells that have a high percentage of reads/UMIs mapping to ribosomal or mitochrondrial genes. Still others exclude cells that lack expression of \"housekeeping genes\" such as those in Tirosh et al (2016) _Science_"
   ]
  },
  {
   "cell_type": "code",
   "execution_count": null,
   "metadata": {},
   "outputs": [],
   "source": [
    "# Sets the size of the plot below\n",
    "options(repr.plot.width=12, repr.plot.height=6)\n",
    "\n",
    "# Violin plots show the distribution of the number of genes, UMIs, and ribosomal percentage across cells\n",
    "VlnPlot(tiss, features = c(\"nGene\", \"nUMI\", 'percent.ribo'), ncol = 3, pt.size = 0.01)"
   ]
  },
  {
   "cell_type": "code",
   "execution_count": null,
   "metadata": {},
   "outputs": [],
   "source": [
    "options(repr.plot.width=12, repr.plot.height=6)\n",
    "\n",
    "# FeatureScatter is typically used to visualize feature-feature relationships, but can be used\n",
    "# for anything calculated by the object, i.e. columns in object metadata, PC scores etc.\n",
    "QC1 <- FeatureScatter(tiss, feature1 = \"nUMI\", feature2 = \"percent.ribo\")\n",
    "QC2 <- FeatureScatter(tiss, feature1 = \"nUMI\", feature2 = \"nGene\")\n",
    "QC1 + QC2"
   ]
  },
  {
   "cell_type": "markdown",
   "metadata": {},
   "source": [
    "**Question:** What is the relationship between the number of UMIs detected in a cell and its number of detected genes or percentage of ribosomal UMIs? Is this expected?"
   ]
  },
  {
   "cell_type": "markdown",
   "metadata": {},
   "source": [
    "**Answer:**"
   ]
  },
  {
   "cell_type": "code",
   "execution_count": null,
   "metadata": {},
   "outputs": [],
   "source": [
    "# Carry forward only cells with 500 genes AND 1000 UMIs using the subset() command\n",
    "tiss <- subset(tiss, subset = nGene > 500 & nUMI > 1000)"
   ]
  },
  {
   "cell_type": "markdown",
   "metadata": {},
   "source": [
    "## Data normalization"
   ]
  },
  {
   "cell_type": "code",
   "execution_count": null,
   "metadata": {},
   "outputs": [],
   "source": [
    "# Convert UMIs to UMIs per 10K and then takes the natural log of all values plus 1\n",
    "# 10K was chosen as a scaling factor to give similar values to counts based approaches\n",
    "# These give expression as counts per million. Counts are necessarily greater than or equal to UMIs\n",
    "tiss <- NormalizeData(tiss, scale.factor = 10000)"
   ]
  },
  {
   "cell_type": "markdown",
   "metadata": {},
   "source": [
    "## Feature selection"
   ]
  },
  {
   "cell_type": "markdown",
   "metadata": {},
   "source": [
    "Grouping cells based on their entire gene expression matrix is difficult because of the curse of dimensionality. To help, most groups usually start by selecting genes that have high expression and variance and then running principle component analysis (PCA)."
   ]
  },
  {
   "cell_type": "code",
   "execution_count": null,
   "metadata": {},
   "outputs": [],
   "source": [
    "options(repr.plot.width=12, repr.plot.height=6)\n",
    "\n",
    "# Identify the top 2,000 genes with the highest variance and expression\n",
    "tiss <- FindVariableFeatures(tiss, selection.method = \"mean.var.plot\", nfeatures = 2000)\n",
    "\n",
    "# Visualize the selected genes\n",
    "MV <- VariableFeaturePlot(tiss) + theme(legend.position = 'none')\n",
    "MV <- LabelPoints(plot = MV, points = head(VariableFeatures(tiss), 10), repel = TRUE)\n",
    "\n",
    "# Identify the top 2,000 genes with the highest \"standardized\" variance and expression\n",
    "tiss <- FindVariableFeatures(tiss, selection.method = \"vst\", nfeatures = 2000)\n",
    "\n",
    "# Visualize the selected genes\n",
    "MV2 <- VariableFeaturePlot(tiss) + theme(legend.position = 'none')\n",
    "MV2 <- LabelPoints(plot = MV2, points = head(VariableFeatures(tiss), 10), repel = TRUE)\n",
    "\n",
    "# Compare the genes selected, side by side\n",
    "MV + MV2"
   ]
  },
  {
   "cell_type": "markdown",
   "metadata": {},
   "source": [
    "**Note:** There are differences in the genes that are selected when using true versus standardized variances. Principle component analysis (run below) will use the genes from the last FindVariableGenes call (currently \"vst\")."
   ]
  },
  {
   "cell_type": "markdown",
   "metadata": {},
   "source": [
    "## Linear dimensionality reduction"
   ]
  },
  {
   "cell_type": "markdown",
   "metadata": {},
   "source": [
    "Principal component analysis (PCA) is a mathematical procedure that transforms a number of (possibly) correlated variables into a (smaller) number of uncorrelated variables called principal components. Principle components are vectors where each gene has a \"loading\". High or low loadings indicate genes that \"define\" the axis of variation a paticular principle component captures. Cells are \"scored\" by how they fall on that axis based on their expression of the defining genes."
   ]
  },
  {
   "cell_type": "code",
   "execution_count": null,
   "metadata": {},
   "outputs": [],
   "source": [
    "# In order to run principle component analysis, the normalized expression matrix needs to be \n",
    "# centered (subtract the mean expression of each gene from each cells individual value)\n",
    "# and scaled (divide the centered expression values by the standard deviation of each gene)\n",
    "# This effectively turns expression values into z-scores\n",
    "tiss <- ScaleData(tiss, features = rownames(tiss))"
   ]
  },
  {
   "cell_type": "code",
   "execution_count": null,
   "metadata": {},
   "outputs": [],
   "source": [
    "# Perform principle component analysis to identify major axes of variation\n",
    "tiss <- RunPCA(tiss, features = VariableFeatures(object = tiss), npcs = 100)"
   ]
  },
  {
   "cell_type": "code",
   "execution_count": null,
   "metadata": {},
   "outputs": [],
   "source": [
    "options(repr.plot.width=12, repr.plot.height=6)\n",
    "\n",
    "# Plot the standard deviation explained by each principle component\n",
    "# Higher values indicate components that explain more variation in the UMI table\n",
    "ElbowPlot(tiss, ndims = 100)"
   ]
  },
  {
   "cell_type": "markdown",
   "metadata": {},
   "source": [
    "**Note:** the variance explained in the original matrix falls rapidly as you move through the principle components"
   ]
  },
  {
   "cell_type": "code",
   "execution_count": null,
   "metadata": {},
   "outputs": [],
   "source": [
    "options(repr.plot.width=12, repr.plot.height=30)\n",
    "\n",
    "# Show expression of the top and bottom 15 genes (based on loading) in each principle component\n",
    "# from the 500 cells with the highest or lowest scores in that component\n",
    "DimHeatmap(tiss, dims = 1:25, cells = 500, balanced = TRUE)"
   ]
  },
  {
   "cell_type": "code",
   "execution_count": null,
   "metadata": {},
   "outputs": [],
   "source": [
    "options(repr.plot.width=12, repr.plot.height=30)\n",
    "\n",
    "DimHeatmap(tiss, dims = 26:50, cells = 500, balanced = TRUE)"
   ]
  },
  {
   "cell_type": "markdown",
   "metadata": {},
   "source": [
    "**Questions:** Do the genes along each principle component make sense? Are they defining axes between tissue compartments, cell types, or cell states (give examples)? What is the relationship between the standard deviation explained by each PC and the strength of its gene loadings?"
   ]
  },
  {
   "cell_type": "markdown",
   "metadata": {},
   "source": [
    "**Answer:** "
   ]
  },
  {
   "cell_type": "markdown",
   "metadata": {},
   "source": [
    "## First round of clustering on the whole dataset"
   ]
  },
  {
   "cell_type": "markdown",
   "metadata": {},
   "source": [
    "Seurat uses flavors of the Louvain algorithm to group cells. It uses a nearest neighbor map, created by calculating how close each cell is to all other cells are across some number of principle components."
   ]
  },
  {
   "cell_type": "code",
   "execution_count": null,
   "metadata": {},
   "outputs": [],
   "source": [
    "# Calculate nearest neighbor map\n",
    "# FindNeighbors will use the first 10 principle compnents by default\n",
    "# We will explore this further below\n",
    "tiss <- FindNeighbors(tiss, verbose = FALSE)\n",
    "\n",
    "# Find communities based on nearest neighbor map\n",
    "tiss <- FindClusters(tiss, verbose = FALSE)"
   ]
  },
  {
   "cell_type": "markdown",
   "metadata": {},
   "source": [
    "## Calculate two dimensional coordinates for all cells with UMAP"
   ]
  },
  {
   "cell_type": "markdown",
   "metadata": {},
   "source": [
    "Uniform Manifold Approximation and Projection (UMAP) is a non-linear dimension reduction technique that can be used for projecting high dimensionality data into 2 or more dimensions.\n",
    "\n",
    "It is currently the most common way groups visualize scRNAseq data at cellular resolution.\n",
    "\n",
    "See McInnes et al (2018) _ArXiv_ for more details"
   ]
  },
  {
   "cell_type": "code",
   "execution_count": null,
   "metadata": {},
   "outputs": [],
   "source": [
    "# UMAP coordinates are typically calculated on some number of principle compnents\n",
    "# There is no default, so we will stick with 10 for now\n",
    "tiss <- RunUMAP(tiss, dims = 1:10, verbose = FALSE)"
   ]
  },
  {
   "cell_type": "code",
   "execution_count": null,
   "metadata": {},
   "outputs": [],
   "source": [
    "options(repr.plot.width=12, repr.plot.height=12)\n",
    "\n",
    "# Plot the UMAP coordinates for each cell and then color them by their cluster\n",
    "DimPlot(tiss, reduction = \"umap\")"
   ]
  },
  {
   "cell_type": "markdown",
   "metadata": {},
   "source": [
    "## Continue exploring the Seurat object with clustering completed"
   ]
  },
  {
   "cell_type": "code",
   "execution_count": null,
   "metadata": {},
   "outputs": [],
   "source": [
    "# Details of commands run\n",
    "names(tiss@commands)"
   ]
  },
  {
   "cell_type": "code",
   "execution_count": null,
   "metadata": {},
   "outputs": [],
   "source": [
    "# Access the details of a specific command\n",
    "tiss@commands$NormalizeData.RNA"
   ]
  },
  {
   "cell_type": "code",
   "execution_count": null,
   "metadata": {},
   "outputs": [],
   "source": [
    "# UMI, ln(UP10K+1), scaled z-score tables\n",
    "tiss@assays$RNA"
   ]
  },
  {
   "cell_type": "code",
   "execution_count": null,
   "metadata": {},
   "outputs": [],
   "source": [
    "# ln(UP10K+1) of specific genes from the first 5 cells\n",
    "tiss@assays$RNA@data[c('ACTB', 'UBB'), 1:5]"
   ]
  },
  {
   "cell_type": "code",
   "execution_count": null,
   "metadata": {},
   "outputs": [],
   "source": [
    "# z-scores of specific genes from the first 5 cells\n",
    "tiss@assays$RNA@scale.data[c('ACTB', 'UBB'), 1:5]"
   ]
  },
  {
   "cell_type": "code",
   "execution_count": null,
   "metadata": {},
   "outputs": [],
   "source": [
    "# Results of dimensionality reductions\n",
    "tiss@reductions"
   ]
  },
  {
   "cell_type": "code",
   "execution_count": null,
   "metadata": {},
   "outputs": [],
   "source": [
    "# Access the coordinates of each cell across 5 principle components for the first 5 cells\n",
    "corner(tiss@reductions$pca@cell.embeddings)"
   ]
  },
  {
   "cell_type": "code",
   "execution_count": null,
   "metadata": {},
   "outputs": [],
   "source": [
    "# Access the gene loadings across the principle components for the first 10 genes\n",
    "corner(tiss@reductions$pca@feature.loadings)"
   ]
  },
  {
   "cell_type": "code",
   "execution_count": null,
   "metadata": {},
   "outputs": [],
   "source": [
    "# Nearest neighbor graph for the first 5 cells\n",
    "tiss@graphs$RNA_nn[1:5,1:5]"
   ]
  },
  {
   "cell_type": "code",
   "execution_count": null,
   "metadata": {},
   "outputs": [],
   "source": [
    "# Nearest neighbor weights for the first 5 cells\n",
    "tiss@graphs$RNA_snn[1:5,1:5]"
   ]
  },
  {
   "cell_type": "markdown",
   "metadata": {},
   "source": [
    "## Effect of varying principle components used for clustering"
   ]
  },
  {
   "cell_type": "markdown",
   "metadata": {},
   "source": [
    "Mutual Information computes a similarity measure between two clusterings of the same data (see Romano et al (2016) Journal of Machine Learning Research). We can use the free annotations available in the dataset as a \"ground truth\" to benchmark the clustering while varying the number of principle compnents included. Higher adjusted mutual information (AMI) scores (max is 1) mean more agreement between the two groupings."
   ]
  },
  {
   "cell_type": "code",
   "execution_count": null,
   "metadata": {},
   "outputs": [],
   "source": [
    "# How many clusters should there be?\n",
    "length(unique(tiss@meta.data$free_annotation))"
   ]
  },
  {
   "cell_type": "code",
   "execution_count": null,
   "metadata": {},
   "outputs": [],
   "source": [
    "# How many of each cell type are there? Sorted in descending order\n",
    "sort(table(tiss@meta.data$free_annotation), decreasing = TRUE)"
   ]
  },
  {
   "cell_type": "code",
   "execution_count": null,
   "metadata": {},
   "outputs": [],
   "source": [
    "options(repr.plot.width=12, repr.plot.height=6)\n",
    "\n",
    "# Create a vector of components to test\n",
    "# Will evaluate to [2, 10, 20, 30, 40, 50, 60, 70, 80, 90, 100]\n",
    "range_j = c(2, seq(from = 10, to = 100, by = 10))\n",
    "\n",
    "# Create empty vectors to store adjusted mutual information (AMI) scores and cluster numbers\n",
    "adjusted_mi_score_PCs <- c()\n",
    "n_clusters_PCs <- c()\n",
    "\n",
    "# Loop through each value in the vector range_j (created above)\n",
    "for (j in 1:length(range_j)) {\n",
    "        \n",
    "        # Re-reun FindNeighbors and FindClusters with each principle compnent cutoff\n",
    "        # e.g. 1:10 will return [1, 2, 3, 4, 5, 6, 7, 8, 9, 10]\n",
    "        tiss <- FindNeighbors(tiss, dims = 1:range_j[j], verbose = FALSE)\n",
    "        tiss <- FindClusters(tiss, verbose = FALSE)\n",
    "        \n",
    "        # Save the rounded AMI and number of clusters\n",
    "        # tiss@meta.data$seurat_clusters is where Seurat stores the results of FindClusters\n",
    "        # tiss@meta.data$free_annotation contains the \"ground truth annotations\"\n",
    "        # The adjusted_mi_score() function expects two numeric vectors\n",
    "        # Seurats clusters are already numerics, but the free_annotations must be \"coerced\"\n",
    "        # as.factor() gives each free annotation a number (based on alphanumeric order)\n",
    "        # as.numeric() converts the vector to these numbers\n",
    "        # The unique() function returns only the unique values in a vector\n",
    "        # e.g. unique([1, 1, 1, 2, 2, 3]) will return [1, 2, 3]\n",
    "        # So its length() tells us how many clusters there are\n",
    "        adjusted_mi_score_PCs[j] <- round(adjusted_mi_score(tiss@meta.data$seurat_clusters, as.numeric(as.factor(tiss@meta.data$free_annotation))), 3)\n",
    "        n_clusters_PCs[j] <- length(unique(tiss@meta.data$seurat_clusters))\n",
    "}\n",
    "\n",
    "# Associate each AMI and number of clusters with the number of principle compnents used\n",
    "names(adjusted_mi_score_PCs) <- range_j\n",
    "names(n_clusters_PCs) <- range_j\n",
    "\n",
    "# Print and plot the AMIs and number of clusters\n",
    "# The par() command allows us to plot two plots side by side\n",
    "print('AMIs:')\n",
    "print(adjusted_mi_score_PCs)\n",
    "print(' ')\n",
    "print('Cluster numbers:')\n",
    "print(n_clusters_PCs)\n",
    "par(mfrow=c(1,2))\n",
    "plot(range_j,\n",
    "     adjusted_mi_score_PCs,\n",
    "     xlab ='Principle components used',\n",
    "     ylab = 'Adjusted mutual information', \n",
    "     pch = 16)\n",
    "plot(range_j,\n",
    "     n_clusters_PCs,\n",
    "     xlab ='Principle components used',\n",
    "     ylab = 'Number of clusters', \n",
    "     pch = 16)\n",
    "par(mfrow=c(1,1))"
   ]
  },
  {
   "cell_type": "markdown",
   "metadata": {},
   "source": [
    "**Question:** Where does the AMI saturate? What about the number of clusters? How does that compare with the PC versus Standard Deviation plot above?"
   ]
  },
  {
   "cell_type": "markdown",
   "metadata": {},
   "source": [
    "**Answer:**"
   ]
  },
  {
   "cell_type": "markdown",
   "metadata": {},
   "source": [
    "## What about other clustering parameters?"
   ]
  },
  {
   "cell_type": "markdown",
   "metadata": {},
   "source": [
    "There are two steps to clustering in Seurat, construction of a nearest neighborhor graph and then grouping the cells using flavors of the Louvain algorithm. There are two important parameters in finding nearest neighbors that can dramatically affect clustering:\n",
    "\n",
    "**k.param:** The number of nearest neighbors to include in the graph\n",
    "\n",
    "**prune.SNN:** Threshold to remove nearest neighbors that are not close enough\n",
    "\n",
    "And one important for the louvain algorithm:\n",
    "\n",
    "**resolution:** Sets the coarseness of clustering, lower numbers lead to fewer clusters and vice versa.\n",
    "\n",
    "k.param and prune.SNN have similar effects on clustering, so we will only explore the pairwise effect of varying the k.param and resolution. The number of tunable parameters (including the number of principle components, and the selected features before that) are what make clustering more of an art than a science."
   ]
  },
  {
   "cell_type": "code",
   "execution_count": null,
   "metadata": {},
   "outputs": [],
   "source": [
    "# Set the optimal number of principle components to use from above\n",
    "n_pcs = XX\n",
    "\n",
    "# Create a vector of k.param and resolutions to test\n",
    "range_j = c(0.25, seq(from = 0.5, to = 2, by = 0.5))\n",
    "range_k = c(5, seq(from = 10, to = 50, by = 10))\n",
    "\n",
    "# Create empty matrices to store adjusted mutual information (AMI) scores and cluster numbers\n",
    "adjusted_mi_score_kreso <- matrix(0, nrow = length(range_j), ncol = length(range_k))\n",
    "n_clusters_kreso <- matrix(0, nrow = length(range_j), ncol = length(range_k))\n",
    "\n",
    "# Loop through all the resolutions to test\n",
    "for (j in 1:length(range_j)) {\n",
    "    \n",
    "    # Loop through all the k.params to test\n",
    "    for (k in 1:length(range_k)) {\n",
    "                \n",
    "        tiss <- FindNeighbors(tiss, dims = 1:n_pcs, k.param = range_k[k], verbose = FALSE)\n",
    "        tiss <- FindClusters(tiss, resolution = range_j[j], verbose = FALSE)\n",
    "        \n",
    "        adjusted_mi_score_kreso[j,k] <- round(adjusted_mi_score(tiss@meta.data$seurat_clusters, as.numeric(as.factor(tiss@meta.data$free_annotation))), 3)\n",
    "        n_clusters_kreso[j,k] <- length(unique(tiss@meta.data$seurat_clusters))\n",
    "        \n",
    "    }\n",
    "    \n",
    "}\n",
    "\n",
    "rownames(adjusted_mi_score_kreso) <- range_j\n",
    "colnames(adjusted_mi_score_kreso) <- range_k\n",
    "\n",
    "rownames(n_clusters_kreso) <- range_j\n",
    "colnames(n_clusters_kreso) <- range_k\n",
    "\n",
    "print('AMIs:')\n",
    "print(adjusted_mi_score_kreso)\n",
    "print(\" \")\n",
    "print('Number of clusters:')\n",
    "print(n_clusters_kreso)"
   ]
  },
  {
   "cell_type": "markdown",
   "metadata": {},
   "source": [
    "**Note:** _Increasing_ the k.param _decreases_ the number of communities detected, while _increasing_ the resolution _increases_ the number of communities (both as expected)"
   ]
  },
  {
   "cell_type": "markdown",
   "metadata": {},
   "source": [
    "**Question:** How does optimizing on a low number of PCs (e.g. 2) affect the AMIs and number of clusters?"
   ]
  },
  {
   "cell_type": "markdown",
   "metadata": {},
   "source": [
    "**Answer:**"
   ]
  },
  {
   "cell_type": "markdown",
   "metadata": {},
   "source": [
    "**Question:** How can decreasing the k.param or increasing the resolution increase the number of clusters, but not their agreement with the ground truth?"
   ]
  },
  {
   "cell_type": "markdown",
   "metadata": {},
   "source": [
    "**Answer:**"
   ]
  },
  {
   "cell_type": "markdown",
   "metadata": {},
   "source": [
    "## Re-run clustering with optimal paramters"
   ]
  },
  {
   "cell_type": "code",
   "execution_count": null,
   "metadata": {},
   "outputs": [],
   "source": [
    "# Set the optimal parameters from above\n",
    "n_pcs = XX\n",
    "k = Y\n",
    "res = Z\n",
    "\n",
    "tiss <- FindNeighbors(tiss, dims = 1:n_pcs, k.param = k, verbose = FALSE)\n",
    "tiss <- FindClusters(tiss, resolution = res, verbose = FALSE)\n",
    "tiss <- RunUMAP(tiss, dims = 1:n_pcs, verbose = FALSE)\n",
    "tiss <- RunTSNE(tiss, dims = 1:n_pcs, verbose = FALSE)"
   ]
  },
  {
   "cell_type": "code",
   "execution_count": null,
   "metadata": {},
   "outputs": [],
   "source": [
    "# Write out optimized clusters for comparison with scanpy later\n",
    "write.csv(tiss@meta.data[,\"seurat_clusters\",drop=FALSE], file = here('seurat_clusters.csv'))"
   ]
  },
  {
   "cell_type": "code",
   "execution_count": null,
   "metadata": {},
   "outputs": [],
   "source": [
    "# Print the AMI with the updated paramters\n",
    "print(paste0(' AMI: ', round(adjusted_mi_score(tiss@meta.data$seurat_clusters, as.numeric(as.factor(tiss@meta.data$free_annotation))), 3)))"
   ]
  },
  {
   "cell_type": "code",
   "execution_count": null,
   "metadata": {},
   "outputs": [],
   "source": [
    "# Check which compartment has the lowest adjusted mutual information score\n",
    "# Loop through and subset the seurat_clusters or free_annotations\n",
    "# to include only the cells in each compartment\n",
    "for (i in unique(tiss@meta.data$compartment)) {\n",
    "    print(paste0(i,' AMI: ', round(adjusted_mi_score(tiss@meta.data$seurat_clusters[tiss@meta.data$compartment == i], as.numeric(as.factor(tiss@meta.data$free_annotation[tiss@meta.data$compartment == i]))), 3)))\n",
    "}"
   ]
  },
  {
   "cell_type": "code",
   "execution_count": null,
   "metadata": {},
   "outputs": [],
   "source": [
    "options(repr.plot.width=12, repr.plot.height=6)\n",
    "# In addition to coloring the cells by cluster identity, you can also color them by other\n",
    "# discrete metadata, such as the type of tissue each cell came from\n",
    "DimPlot(tiss, reduction = \"tsne\", label = TRUE) + DimPlot(tiss, reduction = \"umap\",label = TRUE)"
   ]
  },
  {
   "cell_type": "code",
   "execution_count": null,
   "metadata": {},
   "outputs": [],
   "source": [
    "options(repr.plot.width=12, repr.plot.height=6)\n",
    "# In addition to coloring the cells by cluster identity, you can also color them by other\n",
    "# discrete metadata, such as the type of tissue each cell came from\n",
    "DimPlot(tiss, reduction = \"tsne\", group.by=\"tissue\") + DimPlot(tiss, reduction = \"umap\", group.by=\"tissue\")"
   ]
  },
  {
   "cell_type": "code",
   "execution_count": null,
   "metadata": {},
   "outputs": [],
   "source": [
    "# Plot continuous meta data and expression of genes that mark common states\n",
    "# and the gour major tissue compartments\n",
    "options(repr.plot.width=12, repr.plot.height=20)\n",
    "FeaturePlot(tiss, reduction = \"umap\",\n",
    "            features = c(\"nGene\", \"percent.ribo\", # Quality control\n",
    "                         \"MKI67\", \"TOP2A\", # Proliferative\n",
    "                         \"EPCAM\", # Epithelial\n",
    "                         \"CLDN5\", # Endothelial\n",
    "                         \"COL1A2\", # Stromal\n",
    "                         \"PTPRC\"), # Immune\n",
    "            cols = c('green', 'blue3'), \n",
    "            ncol = 2,\n",
    "            pt.size = 0.25)\n"
   ]
  },
  {
   "cell_type": "markdown",
   "metadata": {},
   "source": [
    "## Subset stromal cells to refine their clustering"
   ]
  },
  {
   "cell_type": "markdown",
   "metadata": {},
   "source": [
    "Subsetting and re-running the Seurat pipline allows us to tune the number of features to take into principle component analysis, the number of components and k.param to use in constructing the nearest neighbor map, and the resolution to set the coarseness of louvain clustering to this specific set of transcriptionally similar stromal cells without worrying about the other major cell types."
   ]
  },
  {
   "cell_type": "code",
   "execution_count": null,
   "metadata": {},
   "outputs": [],
   "source": [
    "# We can use the same subset command as above to separate stromal cells\n",
    "# If the metadata did not include tissue compartments, you could subset based\n",
    "# on Seurat clusters (e.g. subset(tiss, seurat_clusters %in% c(1, 2, 3)))\n",
    "tiss_stromal <- subset(tiss, compartment == 'Stromal')\n",
    "tiss_stromal"
   ]
  },
  {
   "cell_type": "code",
   "execution_count": null,
   "metadata": {},
   "outputs": [],
   "source": [
    "# The dyplr package defines operators (%>%) that are useful for streaming the \n",
    "# Seurat object through several functions in one line, note how \"object = tiss\" is\n",
    "# stated first and then omitted from each command\n",
    "# Select variable genes, center and scale them, and then run PCA\n",
    "tiss_stromal <- tiss_stromal %>% FindVariableFeatures(selection.method = \"vst\", nfeatures = 2000, verbose = FALSE) %>%\n",
    "        ScaleData(features = rownames(tiss_stromal), verbose = FALSE) %>%\n",
    "        RunPCA(features = VariableFeatures(object = tiss_stromal))"
   ]
  },
  {
   "cell_type": "code",
   "execution_count": null,
   "metadata": {},
   "outputs": [],
   "source": [
    "options(repr.plot.width=12, repr.plot.height=8)\n",
    "MV <- VariableFeaturePlot(tiss_stromal) + theme(legend.position = 'none')\n",
    "MV <- LabelPoints(plot = MV, points = head(VariableFeatures(tiss_stromal), 20), repel = TRUE)\n",
    "MV"
   ]
  },
  {
   "cell_type": "code",
   "execution_count": null,
   "metadata": {},
   "outputs": [],
   "source": [
    "options(repr.plot.width=12, repr.plot.height=8)\n",
    "ElbowPlot(tiss_stromal, ndims = 50)"
   ]
  },
  {
   "cell_type": "code",
   "execution_count": null,
   "metadata": {},
   "outputs": [],
   "source": [
    "options(repr.plot.width=12, repr.plot.height=30)\n",
    "DimHeatmap(tiss_stromal, dims = 1:25, cells = 250, balanced = TRUE)"
   ]
  },
  {
   "cell_type": "code",
   "execution_count": null,
   "metadata": {},
   "outputs": [],
   "source": [
    "# Create nearest neighbor map, cluster the data\n",
    "# and then project the cells into 2 dimensions with UMAP\n",
    "tiss_stromal <- tiss_stromal %>% FindNeighbors(dims = 1:18, k.param = 20, verbose = FALSE) %>% \n",
    "            FindClusters(verbose = FALSE, resolution = 0.9) %>%\n",
    "            RunUMAP(dims = 1:18, verbose = FALSE)"
   ]
  },
  {
   "cell_type": "code",
   "execution_count": null,
   "metadata": {},
   "outputs": [],
   "source": [
    "# Print the AMI for the clustering compared to the ground truth\n",
    "print(paste0(\"AMI: \", round(adjusted_mi_score(tiss_stromal@meta.data$seurat_clusters, as.numeric(as.factor(tiss_stromal@meta.data$free_annotation))), 3)))"
   ]
  },
  {
   "cell_type": "code",
   "execution_count": null,
   "metadata": {},
   "outputs": [],
   "source": [
    "options(repr.plot.width=12, repr.plot.height=6)\n",
    "\n",
    "# Plot the subsetted stromal cells in their new UMAP coordinates and color by\n",
    "# the ground truth annotations and the seurat clusters\n",
    "DimPlot(tiss_stromal, reduction = \"umap\", group.by = c(\"free_annotation\"), label = TRUE, repel = TRUE) + theme(legend.position = 'none') +\n",
    "    DimPlot(tiss_stromal, reduction = \"umap\", group.by = c(\"seurat_clusters\"))"
   ]
  },
  {
   "cell_type": "markdown",
   "metadata": {},
   "source": [
    "**Note:** We used specific parameters (n_pcs = 18, k = 20, res = 0.9) to obtain clusters that roughly match the ground truth. We were able to optimize them and improve the AMI for stromal cells because we simplified the problem. The ground truth annotations come from in situ hybridization experiments for the markers provided below.\n",
    "\n",
    "**Question:** How does varying the parameters chosen affect the AMI?"
   ]
  },
  {
   "cell_type": "markdown",
   "metadata": {},
   "source": [
    "**Answer:**"
   ]
  },
  {
   "cell_type": "code",
   "execution_count": null,
   "metadata": {},
   "outputs": [],
   "source": [
    "options(repr.plot.width=12, repr.plot.height=12)\n",
    "\n",
    "# Plot some basic meta data and marker genes\n",
    "FeaturePlot(tiss_stromal,\n",
    "            reduction = \"umap\",\n",
    "            pt.size = 0.25,\n",
    "            features = c(\"nGene\", \"percent.ribo\", # Basic QC\n",
    "                         \"COL1A2\", \"BGN\", # Stromal markers\n",
    "                         \"ACTA2\", \"MYH11\", # Contractile markers\n",
    "                         \"KCNA5\", \"DES\", # Airway smooth muscle\n",
    "                         \"HIGD1B\", \"FAM105A\", # Pericyte\n",
    "                         \"ASPN\", 'TGFBI', # Myofibroblast\n",
    "                         \"SFRP2\", \"FBLN2\", # Adventitial fibroblast\n",
    "                         \"GPC3\", \"FGFR4\", # Alveolar fibroblast\n",
    "                         \"APOE\", \"MUM1L1\", # Lipofibroblast\n",
    "                         \"UPK3B\", \"MSLN\"), # Mesothelial cell\n",
    "            cols = c('green', 'blue3'),\n",
    "            ncol = 4)\n"
   ]
  },
  {
   "cell_type": "code",
   "execution_count": null,
   "metadata": {},
   "outputs": [],
   "source": [
    "# Identify differentially expressed genes in each cluster compared to all other clusters\n",
    "# p-values come from a wilcoxon rank sum test (others are available),with a bonferroni correction\n",
    "all_markers <- FindAllMarkers(object = tiss_stromal, only.pos = TRUE)"
   ]
  },
  {
   "cell_type": "code",
   "execution_count": null,
   "metadata": {},
   "outputs": [],
   "source": [
    "# Use dyplr to show top 5 genes in each cluster, sorted by adjusted p-value\n",
    "all_markers %>% group_by(cluster) %>% top_n(-5, p_val_adj)"
   ]
  },
  {
   "cell_type": "code",
   "execution_count": null,
   "metadata": {},
   "outputs": [],
   "source": [
    "options(repr.plot.width=12, repr.plot.height=16)\n",
    "\n",
    "# Subset the top 4 markers for each cluster by adjusted p-value\n",
    "genes_plot <- all_markers %>% group_by(cluster) %>% top_n(-4, p_val_adj)\n",
    "\n",
    "# Plot their expression\n",
    "FeaturePlot(tiss_stromal,\n",
    "            reduction = \"umap\",\n",
    "            pt.size = 0.25,\n",
    "            features = genes_plot$gene,\n",
    "            cols = c('green', 'blue3'),\n",
    "            ncol = 4)"
   ]
  },
  {
   "cell_type": "code",
   "execution_count": null,
   "metadata": {},
   "outputs": [],
   "source": [
    "options(repr.plot.width=6, repr.plot.height=6)\n",
    "\n",
    "# Map clusters to cell identities\n",
    "# Clustering has some inherent randomness and you may need to change the order\n",
    "new_cluster_ids <- c(\"Adventitial Fibroblast\", # 0\n",
    "                     \"Airway Smooth Muscle\", # 1\n",
    "                     \"Pericyte\", # 2\n",
    "                     \"Alveolar Fibroblast\", # 3\n",
    "                     \"Lipofibroblast\", # 4\n",
    "                     \"Myofibroblast\", # 5\n",
    "                     \"Mesothelial\") # 6\n",
    "names(new_cluster_ids) <- levels(tiss_stromal)\n",
    "tiss_stromal <- RenameIdents(tiss_stromal, new_cluster_ids)\n",
    "DimPlot(tiss_stromal, reduction = \"umap\", label = TRUE, pt.size = 0.5) + theme(legend.position = 'none')"
   ]
  },
  {
   "cell_type": "code",
   "execution_count": null,
   "metadata": {},
   "outputs": [],
   "source": [
    "# Print the percentage of correctly annotated cells\n",
    "tmp <- cbind(as.character(tiss_stromal@active.ident), tiss_stromal@meta.data$free_annotation)\n",
    "print(paste0('% correct: ', round(100 * length(which(tmp[,1] == tmp[,2])) / dim(tmp)[1], 1)))"
   ]
  },
  {
   "cell_type": "markdown",
   "metadata": {},
   "source": [
    "## Integrate 10x and SS2 data using Seurat"
   ]
  },
  {
   "cell_type": "markdown",
   "metadata": {},
   "source": [
    "Seurat has a method for integrating 2 or more datasets based on common axes of variation using Canonical Correlation Analysis (CCA)"
   ]
  },
  {
   "cell_type": "code",
   "execution_count": null,
   "metadata": {},
   "outputs": [],
   "source": [
    "# Read in SS2 metadata and data\n",
    "meta_table <- read.csv(file = here('krasnow_hlca_facs_metadata.csv'), row.names = 1)\n",
    "count_table <- read.csv(file = here('krasnow_hlca_facs_counts.csv'), row.names = 1)\n",
    "\n",
    "# Subset both to include only data from patient 1\n",
    "count_table_1 <- count_table[,rownames(meta_table[meta_table$patient == 1,])]\n",
    "meta_table_1 <- meta_table[colnames(count_table_1),]"
   ]
  },
  {
   "cell_type": "code",
   "execution_count": null,
   "metadata": {},
   "outputs": [],
   "source": [
    "# A list can store any number of other objects in different shelves accessible with list[['shelf name']]\n",
    "# We are using one here to store the Seurat objects from the 10x and SS2 datasets\n",
    "# Create a list to hold the Seurat objects we want integrate\n",
    "lung_list <- list()\n",
    "lung_list[[\"10x\"]] <- tiss"
   ]
  },
  {
   "cell_type": "code",
   "execution_count": null,
   "metadata": {},
   "outputs": [],
   "source": [
    "# Create the Seurat object and associate the metadata\n",
    "lung_list[[\"SS2\"]] <- CreateSeuratObject(counts = count_table_1, project = \"BIOC 281\")\n",
    "lung_list[[\"SS2\"]] <- AddMetaData(lung_list[[\"SS2\"]], meta_table_1)\n",
    "lung_list[[\"SS2\"]]"
   ]
  },
  {
   "cell_type": "markdown",
   "metadata": {},
   "source": [
    "**Note:** The SS2 dataset has nearly 60K features (genes) compared with the 10x dataset's roughly 26K because they were aligned with different genome annotations. The SS2 dataset was aligned with the gencode annotation that includes non-coding RNAs, mitochondrial genes, and more, while the 10x dataset was aligned with RefSeq's, which does not. This is generally not recommended and will make integration more difficult"
   ]
  },
  {
   "cell_type": "code",
   "execution_count": null,
   "metadata": {},
   "outputs": [],
   "source": [
    "# Write the Seurat object to an RDS file\n",
    "saveRDS(lung_list[[\"SS2\"]], file = here('krasnow_hlca_facs_raw.rds'))"
   ]
  },
  {
   "cell_type": "code",
   "execution_count": null,
   "metadata": {},
   "outputs": [],
   "source": [
    "# Uncomment and execute second line if you need to reset the object\n",
    "# Useful as read.csv is slow\n",
    "#lung_list[[\"SS2\"]] = readRDS(file = \"krasnow_hlca_facs_raw.rds\")"
   ]
  },
  {
   "cell_type": "code",
   "execution_count": null,
   "metadata": {},
   "outputs": [],
   "source": [
    "options(repr.plot.width=12, repr.plot.height=6)\n",
    "\n",
    "# Create the same QC plots as above\n",
    "VlnPlot(lung_list[[\"SS2\"]], features = c(\"nGene\", \"nReads\", 'percent.ribo'), ncol = 3, pt.size = 0.01)"
   ]
  },
  {
   "cell_type": "code",
   "execution_count": null,
   "metadata": {},
   "outputs": [],
   "source": [
    "options(repr.plot.width=12, repr.plot.height=6)\n",
    "\n",
    "QC1 <- FeatureScatter(lung_list[[\"SS2\"]], feature1 = \"nReads\", feature2 = \"percent.ribo\")\n",
    "QC2 <- FeatureScatter(lung_list[[\"SS2\"]], feature1 = \"nReads\", feature2 = \"nGene\")\n",
    "QC1 + QC2"
   ]
  },
  {
   "cell_type": "markdown",
   "metadata": {},
   "source": [
    "**Question:** How does the relationship between the number of UMIs and genes detected in 10x data compare with reads in SS2?"
   ]
  },
  {
   "cell_type": "markdown",
   "metadata": {},
   "source": [
    "**Answer:**"
   ]
  },
  {
   "cell_type": "code",
   "execution_count": null,
   "metadata": {},
   "outputs": [],
   "source": [
    "# Carry forward only cells with 500 genes AND 50000 reads using the subset() command\n",
    "# Then normalize the counts per million (commonly used for counts based expression)\n",
    "# Then find the highly variable genes as above\n",
    "lung_list[[\"SS2\"]] <- lung_list[[\"SS2\"]] %>% subset(subset = nGene > 500 & nReads > 50000) %>%\n",
    "                    NormalizeData(scale.factor = 1000000) %>%\n",
    "                    FindVariableFeatures(selection.method = \"vst\", nfeatures = 2000, verbose = FALSE)"
   ]
  },
  {
   "cell_type": "code",
   "execution_count": null,
   "metadata": {},
   "outputs": [],
   "source": [
    "# Run CCA to find the common axes of variation\n",
    "anchors <- FindIntegrationAnchors(object.list = lung_list, dims = 1:30)"
   ]
  },
  {
   "cell_type": "code",
   "execution_count": null,
   "metadata": {},
   "outputs": [],
   "source": [
    "# Create a new Seurat object with an both datasets, integrated on the axes defined in the previous step\n",
    "lung_integrated <- IntegrateData(anchorset = anchors, dims = 1:30)"
   ]
  },
  {
   "cell_type": "code",
   "execution_count": null,
   "metadata": {},
   "outputs": [],
   "source": [
    "# You can still access the original counts, normalized expression data, and scaled z-scores at \n",
    "# lung_integrated@assays$RNA@counts/data/scale.data, but you can also access the 'integrated' data\n",
    "lung_integrated@assays$integrated@data[c('CLDN5', 'EPCAM'),1:5]"
   ]
  },
  {
   "cell_type": "code",
   "execution_count": null,
   "metadata": {},
   "outputs": [],
   "source": [
    "# Set the \"default\" slot Seurat uses to the integrated data for future functions\n",
    "# Also coerce two metadata columns to make later analyses easier\n",
    "DefaultAssay(lung_integrated) <- \"integrated\"\n",
    "lung_integrated@meta.data$compartment <- tolower(lung_integrated@meta.data$compartment)\n",
    "lung_integrated@meta.data$orig.ident <- gsub('Human Lung', '', lung_integrated@meta.data$orig.ident)\n",
    "\n",
    "# Run the standard workflow for clustering and visualization\n",
    "lung_integrated <- lung_integrated %>% ScaleData(verbose = FALSE) %>%\n",
    "                        RunPCA(verbose = FALSE) %>%\n",
    "                        RunUMAP(reduction = \"pca\", dims = 1:30, verbose = FALSE)"
   ]
  },
  {
   "cell_type": "code",
   "execution_count": null,
   "metadata": {},
   "outputs": [],
   "source": [
    "options(repr.plot.width=10, repr.plot.height=10)\n",
    "\n",
    "# Plot the new UMAP coordinates and color by the capture technology\n",
    "DimPlot(lung_integrated, reduction = \"umap\", group.by = c(\"orig.ident\"))"
   ]
  },
  {
   "cell_type": "code",
   "execution_count": null,
   "metadata": {},
   "outputs": [],
   "source": [
    "options(repr.plot.width=10, repr.plot.height=10)\n",
    "\n",
    "# Plot the new UMAP coordinates and color by the ground truth annotations\n",
    "DimPlot(lung_integrated, reduction = \"umap\", group.by = c(\"free_annotation\"), label = TRUE, repel = TRUE) + theme(legend.position = 'none')"
   ]
  },
  {
   "cell_type": "markdown",
   "metadata": {},
   "source": [
    "**Question:** What is the value to having similar UMAP coordinates for the two datasets?"
   ]
  },
  {
   "cell_type": "markdown",
   "metadata": {},
   "source": [
    "**Answer:**"
   ]
  },
  {
   "cell_type": "markdown",
   "metadata": {},
   "source": [
    "## Transfering the labels with CCA"
   ]
  },
  {
   "cell_type": "code",
   "execution_count": null,
   "metadata": {},
   "outputs": [],
   "source": [
    "# Identify common axes of correlation as above and then ask Seurat\n",
    "# to predict the SS2 annotations based on cells from the 10x dataset\n",
    "anchors <- FindTransferAnchors(reference = lung_list[[\"10x\"]], query = lung_list[[\"SS2\"]], dims = 1:30)\n",
    "predictions <- TransferData(anchorset = anchors, refdata = lung_list[[\"10x\"]]@meta.data$free_annotation, dims = 1:30)"
   ]
  },
  {
   "cell_type": "code",
   "execution_count": null,
   "metadata": {},
   "outputs": [],
   "source": [
    "# cbind() stiches together two vectors of matrices with the same length \n",
    "#\n",
    "# Stich together the predicted and actual free annotation for each cell type\n",
    "# and then calculate and print the percentage of them that match\n",
    "tmp <- cbind(predictions$predicted.id, lung_list[[\"SS2\"]]@meta.data$free_annotation)\n",
    "print(paste0('Total % correct: ', round(100 * length(which(tmp[,1] == tmp[,2])) / dim(tmp)[1], 1)))\n",
    "\n",
    "# merge() stiches together two matrices with the same or differing lengths by common information\n",
    "# \n",
    "# Stich together the total number of cells of each type and the number misassigned \n",
    "# and then calculate and print the percentage of incorrectly called cells by type\n",
    "tmp <- merge(as.matrix(table(lung_list[[\"SS2\"]]@meta.data$free_annotation)),\n",
    "      as.matrix(table(lung_list[[\"SS2\"]]@meta.data$free_annotation[tmp[,1] != tmp[,2]])),\n",
    "      by = \"row.names\",\n",
    "      all.x = TRUE)\n",
    "tmp[is.na(tmp)] <- 0\n",
    "tmp[,4] <- round((tmp[,3] / tmp[,2]) * 100, 1)\n",
    "rownames(tmp) <- tmp$Row.names\n",
    "tmp[,c(\"Row.names\", \"V1.x\", \"V1.y\")] <- NULL\n",
    "colnames(tmp) <- \"% Incorrect\"\n",
    "tmp[order(tmp[,1]),,drop=FALSE]"
   ]
  },
  {
   "cell_type": "code",
   "execution_count": null,
   "metadata": {},
   "outputs": [],
   "source": [
    "# Print the number of cell types found in the 10x and SS2 datasets\n",
    "as.matrix(table(lung_integrated@meta.data[,c('free_annotation', 'orig.ident')]))"
   ]
  },
  {
   "cell_type": "markdown",
   "metadata": {},
   "source": [
    "**Question:** Looking carefully at Seurat's accuracy and what cell types exist in both datasets, why do you think it struggled and succeeded where it did?"
   ]
  },
  {
   "cell_type": "markdown",
   "metadata": {},
   "source": [
    "**Answer:**"
   ]
  },
  {
   "cell_type": "markdown",
   "metadata": {},
   "source": [
    "## Cluster integrated dataset"
   ]
  },
  {
   "cell_type": "code",
   "execution_count": null,
   "metadata": {},
   "outputs": [],
   "source": [
    "# Cluster the combined dataset using the integrated expression values\n",
    "lung_integrated <- lung_integrated %>% FindNeighbors(verbose = FALSE, dims = 1:50) %>%\n",
    "                        FindClusters(verbose = FALSE)"
   ]
  },
  {
   "cell_type": "code",
   "execution_count": null,
   "metadata": {},
   "outputs": [],
   "source": [
    "# Calculate the Adjusted Mutual Information (AMI) between the ground truth annotations and the integrated dataset clusters\n",
    "print(paste0(\"AMI: \", round(adjusted_mi_score(lung_integrated@meta.data$seurat_clusters, as.numeric(as.factor(lung_integrated@meta.data$free_annotation))), 3)))"
   ]
  },
  {
   "cell_type": "code",
   "execution_count": null,
   "metadata": {},
   "outputs": [],
   "source": [
    "# Split the AMI by compartment\n",
    "for (i in unique(lung_integrated@meta.data$compartment)) {\n",
    "    print(paste0(i,' AMI: ', round(adjusted_mi_score(lung_integrated@meta.data$seurat_clusters[lung_integrated@meta.data$compartment == i], as.numeric(as.factor(lung_integrated@meta.data$free_annotation[lung_integrated@meta.data$compartment == i]))), 3)))\n",
    "}"
   ]
  },
  {
   "cell_type": "markdown",
   "metadata": {},
   "source": [
    "**Note:** The louvain clustering algorithm again struggles with all of the data together, but its assignments could be cleaned up with compartment separation and/or iterative subclustering."
   ]
  },
  {
   "cell_type": "markdown",
   "metadata": {},
   "source": [
    "**Question:** Describe step by step how you would annotate a dataset that had 50,000 cells captured through both 10x (90% of cells) and SmartSeq2 (10% of cells) from 5 different human patients with the ground truth available for 1 patient."
   ]
  },
  {
   "cell_type": "markdown",
   "metadata": {},
   "source": [
    "**Answer:**"
   ]
  },
  {
   "cell_type": "markdown",
   "metadata": {},
   "source": [
    "**Note:** When finished, please save the outputs of Tutorial 3 - Seurat.ipynb (File > Export Notebook As... > Export Notebook to HTML) when you have completed it and upload it to Canvas."
   ]
  }
 ],
 "metadata": {
  "kernelspec": {
   "display_name": "R",
   "language": "R",
   "name": "ir"
  },
  "language_info": {
   "codemirror_mode": "r",
   "file_extension": ".r",
   "mimetype": "text/x-r-source",
   "name": "R",
   "pygments_lexer": "r",
   "version": "4.0.2"
  },
  "toc-autonumbering": true
 },
 "nbformat": 4,
 "nbformat_minor": 4
}
