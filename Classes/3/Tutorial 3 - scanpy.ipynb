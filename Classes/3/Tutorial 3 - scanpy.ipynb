{
 "cells": [
  {
   "cell_type": "markdown",
   "metadata": {},
   "source": [
    "# Tutorial 3 - Working with scanpy"
   ]
  },
  {
   "cell_type": "markdown",
   "metadata": {},
   "source": [
    "## Load required packages"
   ]
  },
  {
   "cell_type": "code",
   "execution_count": null,
   "metadata": {},
   "outputs": [],
   "source": [
    "# Load necessary packages as we did in week 1 using the import and from commands\n",
    "#\n",
    "# Jupyter notebooks have so called \"magic\" functions that lets us interact\n",
    "# with packages in a command line like format. \n",
    "# %matplotlib inline directs the output of plotting commands to appear directly\n",
    "# below the cell that produced it.\n",
    "#\n",
    "# As academic software in paticular is constantly evolving, some of the tools\n",
    "# that packages rely on can update at different speeds. If certain commands are\n",
    "# scheduled to be phased out, they often warn users with a \"FutureWarning\"\n",
    "# The last line silences these warnings, to avoid distraction.\n",
    "\n",
    "import os\n",
    "import numpy as np\n",
    "import pandas as pd\n",
    "import matplotlib.pyplot as plt\n",
    "%matplotlib inline\n",
    "import sklearn as sk\n",
    "import scipy as sp\n",
    "import csv\n",
    "import scanpy as sc\n",
    "import copy\n",
    "import re\n",
    "from collections import Counter\n",
    "from igraph import *\n",
    "import warnings\n",
    "warnings.simplefilter(action='ignore', category=FutureWarning)"
   ]
  },
  {
   "cell_type": "code",
   "execution_count": null,
   "metadata": {},
   "outputs": [],
   "source": [
    "# Set the present working directory with the getcwd() function from the os library\n",
    "pwd = os.getcwd()"
   ]
  },
  {
   "cell_type": "code",
   "execution_count": null,
   "metadata": {},
   "outputs": [],
   "source": [
    "# Check this is set correctly to '/home/<SUNetID>/BIOC281/Classes/3' on FarmShare\n",
    "# Check this is set correctly to '/home/groups/<GroupName>/BIOC281/Classes/3' on Sherlock\n",
    "pwd"
   ]
  },
  {
   "cell_type": "markdown",
   "metadata": {},
   "source": [
    "## Data and metadata ingest"
   ]
  },
  {
   "cell_type": "code",
   "execution_count": null,
   "metadata": {},
   "outputs": [],
   "source": [
    "# See https://scanpy.readthedocs.io/en/stable/api/index.html#reading\n",
    "# for examples on how to read other file types\n",
    "# The path.join() command from the os library works similar to here() in R\n",
    "# sc.read_csv() expects cells to be rows, so .T transposes the object\n",
    "adata = sc.read_csv(filename=os.path.join(pwd, 'krasnow_hlca_10x_UMIs.csv')).T\n",
    "adata = adata[adata.obs_names.sort_values()]"
   ]
  },
  {
   "cell_type": "code",
   "execution_count": null,
   "metadata": {},
   "outputs": [],
   "source": [
    "# Read in the meta.data using read_csv() from pandas, like in the first tutorial\n",
    "# adata is an AnnData object (https://anndata.readthedocs.io/en/latest/)\n",
    "# It is similar to a Seurat object in that it stores important information in different shelves\n",
    "# You can access them with a \".\" symbol followed by their name.\n",
    "# In this case, the AnnData expects the \"obs\" shelf to contain the cellular metadata\n",
    "tmp = pd.read_csv(filepath_or_buffer=os.path.join(pwd, 'krasnow_hlca_10x_metadata.csv'), index_col=0).sort_index()\n",
    "adata.obs = tmp.copy()"
   ]
  },
  {
   "cell_type": "code",
   "execution_count": null,
   "metadata": {},
   "outputs": [],
   "source": [
    "# Subset the dataset to include only data from patient 1\n",
    "# Recall from the first tutorial that columns from pandas dataframes (called pandas series)\n",
    "# can be accessed using a \".\" symbol followed by their column name\n",
    "adata = adata[adata.obs.patient == 1]"
   ]
  },
  {
   "cell_type": "code",
   "execution_count": null,
   "metadata": {},
   "outputs": [],
   "source": [
    "# Write the adata object to an h5ad file to ease import, also seems to halve the memory usage\n",
    "# h5ad is a special binary file format that extends python's hd5f format (https://www.h5py.org)\n",
    "adata.write(os.path.join(pwd, 'krasnow_hlca_10x_raw.h5ad'))"
   ]
  },
  {
   "cell_type": "code",
   "execution_count": null,
   "metadata": {},
   "outputs": [],
   "source": [
    "# Uncomment and execute if you need to read in the object again\n",
    "# Useful as sc.read_csv is slow\n",
    "adata = sc.read_h5ad(filename = os.path.join(pwd, 'krasnow_hlca_10x_raw.h5ad'))"
   ]
  },
  {
   "cell_type": "code",
   "execution_count": null,
   "metadata": {},
   "outputs": [],
   "source": [
    "# Keep a copy for subclustering later\n",
    "# There is an important difference between R and Python in how they save equivalent variables\n",
    "# In Python, if you set a = [1, 2], then set b = a, and then set b[1] = 10, a[1] will also equal 10\n",
    "# In R, if you set a = c(1,2), then set b = a, then set b[1] = 10, a[1] will NOT equal 10\n",
    "# Copying variables as below allows us to copy the adata object and break the linkage between them\n",
    "# We use deepcopy from the copy library as adata is a multilevel, complex object as we will explore\n",
    "adata_raw = copy.deepcopy(adata)"
   ]
  },
  {
   "cell_type": "code",
   "execution_count": null,
   "metadata": {},
   "outputs": [],
   "source": [
    "# Uncomment and execute if you need to reset the object\n",
    "# Useful as sc.read_csv is slow\n",
    "#adata = copy.deepcopy(adata_raw)"
   ]
  },
  {
   "cell_type": "markdown",
   "metadata": {},
   "source": [
    "## Explore the scanpy object"
   ]
  },
  {
   "cell_type": "code",
   "execution_count": null,
   "metadata": {},
   "outputs": [],
   "source": [
    "# Show the basic contents of adata\n",
    "adata"
   ]
  },
  {
   "cell_type": "code",
   "execution_count": null,
   "metadata": {},
   "outputs": [],
   "source": [
    "# As noted above, the obs self in the AnnData object holds the cellular metadata\n",
    "# The first five rows and columns can be accessed using the iloc() function from pandas\n",
    "# In python, the \"0\" preceeding the \":\" symbol is assumed and can be omitted\n",
    "adata.obs.iloc[:5,:5]"
   ]
  },
  {
   "cell_type": "code",
   "execution_count": null,
   "metadata": {},
   "outputs": [],
   "source": [
    "# Specific columns from metadata can be accessed by name using a \".\" symbol\n",
    "# We then select the first five cells\n",
    "adata.obs.nGene[:5]"
   ]
  },
  {
   "cell_type": "code",
   "execution_count": null,
   "metadata": {},
   "outputs": [],
   "source": [
    "# Specific cells can also be accessed by subsetting the whole adata object\n",
    "adata[['P1_1_AAACCTGAGCGATAGC', 'P1_1_AACTCCCAGGGCATGT']].obs"
   ]
  },
  {
   "cell_type": "code",
   "execution_count": null,
   "metadata": {},
   "outputs": [],
   "source": [
    "# The UMI/counts matrix starts in the \"X\" shelf of the adata object\n",
    "# As you proceed through data normalization and scaling, scanpy automatically changes X\n",
    "# Each column is a cell with genes as rows\n",
    "adata.X"
   ]
  },
  {
   "cell_type": "code",
   "execution_count": null,
   "metadata": {},
   "outputs": [],
   "source": [
    "# Specific genes can be referenced from the \"X\" shelf, the first 5 cells are shown\n",
    "# adata objects can be subset by [rows, columns] much like R data frames\n",
    "adata[:5, ['ACTB', 'UBB']].X"
   ]
  },
  {
   "cell_type": "code",
   "execution_count": null,
   "metadata": {},
   "outputs": [],
   "source": [
    "# scanpy updates the X layer as we normalize and scale the data, so we need to save the\n",
    "# original UMIs somewhere else. The standard place to store additional expression matrices\n",
    "# with the same dimensions as X is the \"layers\" shelf. As noted above, when we equate variables\n",
    "# in python they remain linked unless we copy them.\n",
    "adata.layers['UMIs'] = adata.X.copy()"
   ]
  },
  {
   "cell_type": "markdown",
   "metadata": {},
   "source": [
    "## Basic quality control"
   ]
  },
  {
   "cell_type": "code",
   "execution_count": null,
   "metadata": {},
   "outputs": [],
   "source": [
    "# Set the dimensions for the figures plotted by the code below\n",
    "plt.rcParams['figure.figsize'] = [12, 6]\n",
    "\n",
    "# The violin() function in scanpy's plotting library (pl) allows us to plot comtinuous\n",
    "# variables similar to Seurat. Many of the functions in scanpy's preproccing (pp) and\n",
    "# tools (tl) libraries have corresponding plotting functions as we will see below\n",
    "sc.pl.violin(adata, keys=['nGene', 'nUMI', 'percent.ribo'], multi_panel=True)"
   ]
  },
  {
   "cell_type": "code",
   "execution_count": null,
   "metadata": {},
   "outputs": [],
   "source": [
    "plt.rcParams['figure.figsize'] = [12, 6]\n",
    "\n",
    "# The scatter() function in scanpy's plotting library (pl) allows us to plot two continuous\n",
    "# variables against one another\n",
    "sc.pl.scatter(adata, x='nUMI', y='percent.ribo')\n",
    "sc.pl.scatter(adata, x='nUMI', y='nGene')"
   ]
  },
  {
   "cell_type": "code",
   "execution_count": null,
   "metadata": {},
   "outputs": [],
   "source": [
    "# Subset the data to include only cells with greater than 500 genes and 1000 UMIs detected\n",
    "# In python, if numbers are omitted around a \":\" symbol the range is assumed to include all values\n",
    "adata = adata[adata.obs.nGene > 500, :]\n",
    "adata = adata[adata.obs.nUMI > 1000, :]"
   ]
  },
  {
   "cell_type": "code",
   "execution_count": null,
   "metadata": {},
   "outputs": [],
   "source": [
    "# Copy the adata object for complex normalizations with scVI and MAGIC later on\n",
    "# Both assume adata.X is are unnormalized UMIs\n",
    "adata_scvi = copy.deepcopy(adata)\n",
    "adata_magic = copy.deepcopy(adata)"
   ]
  },
  {
   "cell_type": "markdown",
   "metadata": {},
   "source": [
    "## Basic data normalization"
   ]
  },
  {
   "cell_type": "code",
   "execution_count": null,
   "metadata": {},
   "outputs": [],
   "source": [
    "# Convert UMIs to UMIs per 10K and then take the natural log of all values plus 1\n",
    "# This updates the X shelf in the AnnData object, which is why we stashed the UMIs\n",
    "# in adata.layers['UMIs']. Function is similar to Seurat's NormalizeData() function\n",
    "sc.pp.normalize_total(adata, target_sum=1e4)\n",
    "sc.pp.log1p(adata)"
   ]
  },
  {
   "cell_type": "code",
   "execution_count": null,
   "metadata": {},
   "outputs": [],
   "source": [
    "# Many of scanpy's internal functions assume adata.raw.X contains the normalized expression values,\n",
    "# while adata.X contains the centered and scaled z-scores (set after sc.pp.scale is run below)\n",
    "#\n",
    "# Copy adata to adata.raw to preserve the normalized expression values\n",
    "adata.raw = adata"
   ]
  },
  {
   "cell_type": "code",
   "execution_count": null,
   "metadata": {},
   "outputs": [],
   "source": [
    "# Copy the adata object for complex normalizations with sam later\n",
    "# SAM assumes that adata.X are normalized expression values\n",
    "adata_sam = copy.deepcopy(adata)"
   ]
  },
  {
   "cell_type": "markdown",
   "metadata": {},
   "source": [
    "## Feature selection"
   ]
  },
  {
   "cell_type": "code",
   "execution_count": null,
   "metadata": {},
   "outputs": [],
   "source": [
    "plt.rcParams['figure.figsize'] = [12, 6]\n",
    "\n",
    "# Select and plot genes that have high dispersion (>0.5) and mean expression (>0.0125)\n",
    "# This selection is similar to \"mean.var.plot\" feature selection called with\n",
    "# the FindVariableFeatures function in Seurat\n",
    "# Note how the highly_variable_genes() function in scanpy's preprocessing (pp) library\n",
    "# has a matching function with its plotting (pl) library\n",
    "sc.pp.highly_variable_genes(adata, min_mean=0.0125, max_mean=6, min_disp=0.5)\n",
    "sc.pl.highly_variable_genes(adata)"
   ]
  },
  {
   "cell_type": "markdown",
   "metadata": {},
   "source": [
    "## Linear dimensionality reduction"
   ]
  },
  {
   "cell_type": "code",
   "execution_count": null,
   "metadata": {},
   "outputs": [],
   "source": [
    "# Center and scale the expression values in adata.X, making them z-scores\n",
    "sc.pp.scale(adata, max_value=10)\n",
    "# Run principle component analysis\n",
    "sc.tl.pca(adata, svd_solver='arpack', n_comps=100)"
   ]
  },
  {
   "cell_type": "code",
   "execution_count": null,
   "metadata": {},
   "outputs": [],
   "source": [
    "plt.rcParams['figure.figsize'] = [12, 6]\n",
    "\n",
    "# Plot the variance explained by each principle compnent\n",
    "# Similar to ElbowPlot() function in Seurat\n",
    "sc.pl.pca_variance_ratio(adata, n_pcs=100)"
   ]
  },
  {
   "cell_type": "code",
   "execution_count": null,
   "metadata": {},
   "outputs": [],
   "source": [
    "plt.rcParams['figure.figsize'] = [12, 50]\n",
    "\n",
    "# Plot expression of the top and bottom 15 genes (based on loading) in each principle component\n",
    "# from the 500 cells with the highest or lowest scores in that component\n",
    "# Similar to Seurat's DimHeatmap() command\n",
    "genes = adata.var_names.to_series()\n",
    "for pc in range(1,51):\n",
    "    g = adata.varm['PCs'][:,pc-1]\n",
    "    o = np.argsort(g)\n",
    "    sel = np.concatenate((o[:15],o[-15:])).tolist()\n",
    "    emb = adata.obsm['X_pca'][:,pc-1]\n",
    "    # order by position on that pc\n",
    "    cells = np.append(np.argsort(emb)[:250], np.argsort(emb)[-250:])\n",
    "    tempdata = adata[cells,]\n",
    "    print('PC = ' + str(pc))\n",
    "    sc.pl.heatmap(tempdata, var_names=genes[sel].index.tolist(), swap_axes=True, groupby=None)"
   ]
  },
  {
   "cell_type": "markdown",
   "metadata": {},
   "source": [
    "## First round of clustering on the whole dataset"
   ]
  },
  {
   "cell_type": "code",
   "execution_count": null,
   "metadata": {},
   "outputs": [],
   "source": [
    "# Calculate the nearest neighbor map from the first 50 principle components \n",
    "# with k=10 nearest neighbors. These settings are identical to what we\n",
    "# found was \"optimal\" in Seurat.\n",
    "#\n",
    "# scanpy does not perform pruning on its nearest neighbor network like Seurat\n",
    "sc.pp.neighbors(adata, n_neighbors=10, n_pcs=50)\n",
    "\n",
    "# Cluster the cells using the nearest neighbor graph with the leiden and louvain\n",
    "# algorithms and a resolution of 0.5 (again identical to the \"optimal\" paramters from Seurat)\n",
    "# The output of both are stored in \"obs\" shelf of adata, under the columns \"leiden\" and \"louvain\"\n",
    "sc.tl.leiden(adata, resolution=0.5)\n",
    "sc.tl.louvain(adata, resolution=0.5)"
   ]
  },
  {
   "cell_type": "markdown",
   "metadata": {},
   "source": [
    "## Calculate two dimensional coordinates for all cells with UMAP"
   ]
  },
  {
   "cell_type": "code",
   "execution_count": null,
   "metadata": {},
   "outputs": [],
   "source": [
    "# Calculate UMAP coordinates using the nearest neighbor map calculated above\n",
    "# scanpy uses the same dimensions as the neighbors() function from scanpy's\n",
    "# preprocessing (pp) library\n",
    "sc.tl.umap(adata)"
   ]
  },
  {
   "cell_type": "code",
   "execution_count": null,
   "metadata": {},
   "outputs": [],
   "source": [
    "plt.rcParams['figure.figsize'] = [10, 10]\n",
    "\n",
    "# Plot the UMAP coordinates for each cell then color by leiden cluster\n",
    "sc.pl.umap(adata, color=['leiden'], legend_loc=\"on data\", legend_fontsize=14)"
   ]
  },
  {
   "cell_type": "markdown",
   "metadata": {},
   "source": [
    "## Comparison of leiden versus louvain clustering"
   ]
  },
  {
   "cell_type": "code",
   "execution_count": null,
   "metadata": {},
   "outputs": [],
   "source": [
    "# Compare leiden and louvain versus ground truth and each other\n",
    "# We can use the same adjusted mutual information metric we used in the Seurat notebook\n",
    "# The adjusted_mutual_info_score() comes from the metrics section of the sk-learn library\n",
    "print('Leiden vs Truth AMI: ' + str(round(sk.metrics.adjusted_mutual_info_score(adata.obs.free_annotation, adata.obs.leiden), 2)))\n",
    "print('Louvain vs Truth AMI: ' + str(round(sk.metrics.adjusted_mutual_info_score(adata.obs.free_annotation, adata.obs.louvain), 2)))"
   ]
  },
  {
   "cell_type": "code",
   "execution_count": null,
   "metadata": {},
   "outputs": [],
   "source": [
    "# Compare leiden to ground truth per tissue compartment\n",
    "print('Leiden vs Truth')\n",
    "for i in adata.obs.compartment.cat.categories:\n",
    "    print(i + ' AMI: ' + str(round(sk.metrics.adjusted_mutual_info_score(adata[adata.obs.compartment == i].obs.free_annotation, adata[adata.obs.compartment == i].obs.leiden), 2)))"
   ]
  },
  {
   "cell_type": "code",
   "execution_count": null,
   "metadata": {},
   "outputs": [],
   "source": [
    "# Compare louvain to ground truth per tissue compartment\n",
    "print('Louvain vs Truth')\n",
    "for i in adata.obs.compartment.cat.categories:\n",
    "    print(i + ' AMI: ' + str(round(sk.metrics.adjusted_mutual_info_score(adata[adata.obs.compartment == i].obs.free_annotation, adata[adata.obs.compartment == i].obs.louvain), 2)))"
   ]
  },
  {
   "cell_type": "code",
   "execution_count": null,
   "metadata": {},
   "outputs": [],
   "source": [
    "# Compare Seurat louvain versus scanpy\n",
    "seurat_clusters = pd.read_csv(os.path.join(pwd, 'seurat_clusters.csv'), index_col=0)\n",
    "seurat_clusters.sort_index(inplace=True)\n",
    "print('Leiden vs Seurat AMI: ' + str(round(sk.metrics.adjusted_mutual_info_score(seurat_clusters.seurat_clusters, adata.obs.leiden), 2)))\n",
    "print('Louvain vs Seurat AMI: ' + str(round(sk.metrics.adjusted_mutual_info_score(seurat_clusters.seurat_clusters, adata.obs.louvain), 2)))"
   ]
  },
  {
   "cell_type": "markdown",
   "metadata": {},
   "source": [
    "**Question:** How does the performance of Leiden and Louvain compare?"
   ]
  },
  {
   "cell_type": "markdown",
   "metadata": {},
   "source": [
    "**Answer:**"
   ]
  },
  {
   "cell_type": "markdown",
   "metadata": {},
   "source": [
    "## Continue exploring the scanpy object with clustering completed"
   ]
  },
  {
   "cell_type": "code",
   "execution_count": null,
   "metadata": {},
   "outputs": [],
   "source": [
    "# New location of UMIs\n",
    "adata.layers['UMIs']"
   ]
  },
  {
   "cell_type": "code",
   "execution_count": null,
   "metadata": {},
   "outputs": [],
   "source": [
    "# Subset to the first 5 cells and specific genes\n",
    "adata[:5,['ACTB', 'UBB']].layers['UMIs']"
   ]
  },
  {
   "cell_type": "code",
   "execution_count": null,
   "metadata": {},
   "outputs": [],
   "source": [
    "# Location of normalized expression data\n",
    "adata.raw.X"
   ]
  },
  {
   "cell_type": "code",
   "execution_count": null,
   "metadata": {},
   "outputs": [],
   "source": [
    "# Subset to the first 5 cells and specific genes\n",
    "adata.raw[:5,['ACTB', 'UBB']].X"
   ]
  },
  {
   "cell_type": "code",
   "execution_count": null,
   "metadata": {},
   "outputs": [],
   "source": [
    "# Location of expression z-scores\n",
    "adata.X"
   ]
  },
  {
   "cell_type": "code",
   "execution_count": null,
   "metadata": {},
   "outputs": [],
   "source": [
    "# Subset to the first 5 cells and specific genes\n",
    "adata[:5,['ACTB', 'UBB']].X"
   ]
  },
  {
   "cell_type": "code",
   "execution_count": null,
   "metadata": {},
   "outputs": [],
   "source": [
    "# Location of dimentionality reductions\n",
    "adata.obsm"
   ]
  },
  {
   "cell_type": "code",
   "execution_count": null,
   "metadata": {},
   "outputs": [],
   "source": [
    "# Subset the first 5 PC coordinates of the first 5 cells\n",
    "adata[:4].obsm['X_pca'][:,:5]"
   ]
  },
  {
   "cell_type": "code",
   "execution_count": null,
   "metadata": {},
   "outputs": [],
   "source": [
    "# Subset the first 10 gene loadings from the first 5 PCs\n",
    "adata.varm['PCs'][:10,:5]"
   ]
  },
  {
   "cell_type": "code",
   "execution_count": null,
   "metadata": {},
   "outputs": [],
   "source": [
    "# Gene metadata\n",
    "adata.var"
   ]
  },
  {
   "cell_type": "code",
   "execution_count": null,
   "metadata": {},
   "outputs": [],
   "source": [
    "# Access specific gene metadata columns\n",
    "adata.var.dispersions[:5]"
   ]
  },
  {
   "cell_type": "code",
   "execution_count": null,
   "metadata": {},
   "outputs": [],
   "source": [
    "# Nearest neighbor distances from first 5 cells\n",
    "adata[:5].obsp['distances'].todense()"
   ]
  },
  {
   "cell_type": "code",
   "execution_count": null,
   "metadata": {},
   "outputs": [],
   "source": [
    "# Nearest neighbor graph from first 5 cells\n",
    "# 0 = not connected, 1 = connected\n",
    "adata[:5].obsp['connectivities'].todense()"
   ]
  },
  {
   "cell_type": "markdown",
   "metadata": {},
   "source": [
    "## Alternative: Self assembling manifolds"
   ]
  },
  {
   "cell_type": "markdown",
   "metadata": {},
   "source": [
    "SAM iteratively rescales the input gene expression matrix to emphasize genes that are spatially variable along the intrinsic manifold of the data. It outputs the gene weights, nearest neighbor matrix, and a 2D projection (see Tarashansky et al (2019) _Elife_)\n",
    "\n",
    "The adata input should contain unstandardized, non-negative values. Preferably, the data should be log-normalized and no genes should be filtered out. See https://scanpy.readthedocs.io/en/stable/external/scanpy.external.tl.sam.html#scanpy.external.tl.sam for more usage information"
   ]
  },
  {
   "cell_type": "code",
   "execution_count": null,
   "metadata": {},
   "outputs": [],
   "source": [
    "# SAM can accessed using the \"external\" library from scanpy which provides a common\n",
    "# interface to seamlessly use academic software by other labs with adata objects\n",
    "#\n",
    "# By default SAM outputs a UMAP embedding based on its nearest neighbor matrix. We skip\n",
    "# its calculation and ask SAM to use k=10 nearest neighbors, identical to what we used for PCA\n",
    "# SAM dynamically chooses the number of principle components to use in each iteration\n",
    "#\n",
    "# SAM expects adata.X to be a sparse matrix of log-normalized expression values\n",
    "# we can use the csr_matrix() function in the sparse section of the scipy library\n",
    "# to convert it from a numpy matrix.\n",
    "adata_sam.X = sp.sparse.csr_matrix(adata_sam.X)\n",
    "sc.external.tl.sam(adata_sam, projection=None, k=10)"
   ]
  },
  {
   "cell_type": "code",
   "execution_count": null,
   "metadata": {},
   "outputs": [],
   "source": [
    "# Copy the nearest neighbor matrix from the sam object to the original adata object\n",
    "adata.obsm['X_sam'] = adata_sam.obsm['X_pca'].copy()\n",
    "\n",
    "# Remove the adata_sam object to preserve memory\n",
    "del adata_sam"
   ]
  },
  {
   "cell_type": "markdown",
   "metadata": {},
   "source": [
    "## Alternative: Markov affinity-based graph imputation of cells (MAGIC)"
   ]
  },
  {
   "cell_type": "markdown",
   "metadata": {},
   "source": [
    "Markov Affinity-based Graph Imputation of Cells (MAGIC) is an algorithm for denoising and transcript recover of single cells applied to single-cell sequencing data. MAGIC builds a graph from the data and uses diffusion to smooth out noise and recover the data manifold (see van Dijk et al (2018) Cell)\n",
    "\n",
    "The magic() function expects an AnnData function where the raw.X shelf is unormalized counts or UMIs. See https://scanpy.readthedocs.io/en/stable/external/scanpy.external.pp.magic.html#scanpy.external.pp.magic for more usage information"
   ]
  },
  {
   "cell_type": "code",
   "execution_count": null,
   "metadata": {},
   "outputs": [],
   "source": [
    "# MAGIC expects genes with no expression across the entire dataset\n",
    "# The sum() function from numpy allows us to sum the UMIs for each gene\n",
    "# across all cells (summing the rows with axis=0; axis=1 would sum the UMIs for each cell)\n",
    "# We can then create a boolean to select genes with any number of UMIs with greater than (>)\n",
    "adata_magic = adata_magic[:,adata_magic.X.sum(axis=0) > 0]\n",
    "\n",
    "# Set the raw.X shelf to the UMI table with undetected genes removed\n",
    "adata_magic.raw = adata_magic"
   ]
  },
  {
   "cell_type": "code",
   "execution_count": null,
   "metadata": {},
   "outputs": [],
   "source": [
    "# Run MAGIC with the same paramters we used for PCA\n",
    "sc.external.pp.magic(adata_magic, knn=10, n_pca=50, name_list=\"pca_only\")"
   ]
  },
  {
   "cell_type": "code",
   "execution_count": null,
   "metadata": {},
   "outputs": [],
   "source": [
    "# Copy the nearest neighbor matrix from the MAGIC object to the original adata object\n",
    "adata.obsm['X_magic'] = adata_magic.obsm['X_magic'].copy()\n",
    "\n",
    "# Remove the adata_magic object to preserve memory\n",
    "del adata_magic"
   ]
  },
  {
   "cell_type": "markdown",
   "metadata": {},
   "source": [
    "## Alternative: Deep neural network with scVI"
   ]
  },
  {
   "cell_type": "markdown",
   "metadata": {},
   "source": [
    "scVI uses stochastic optimization and deep neural networks to aggregate information across similar cells and genes and to approximate the distributions that underlie observed expression values, while accounting for batch effects and limited sensitivity (see Lopez et al (2018) _Nature Methods_)\n",
    "\n",
    "scVI expects an AnnData object with X containing unnormalized count data. For more usage information see https://scanpy.readthedocs.io/en/stable/external/scanpy.external.pp.scvi.html"
   ]
  },
  {
   "cell_type": "code",
   "execution_count": null,
   "metadata": {},
   "outputs": [],
   "source": [
    "# Copy the highly variable genes detected by scanpy's highly_variable_genes()\n",
    "# scVI can be run on only these genes rather than the whole expression matrix\n",
    "# to reduce computational cost and save time\n",
    "adata_scvi.var[\"highly_variable\"] = adata.var.highly_variable.copy()"
   ]
  },
  {
   "cell_type": "code",
   "execution_count": null,
   "metadata": {},
   "outputs": [],
   "source": [
    "# Run scVI on the expression matrix of highly variable genes and reduce it to 50 dimensions\n",
    "# n_epochs is the number of iterations to train the neural network, the default being 400\n",
    "# We reduce this to 100 to save time and allow the model to train during class, but will\n",
    "# lower the models accuracy.\n",
    "sc.external.pp.scvi(adata_scvi, use_highly_variable_genes=True, n_latent=50, n_epochs=100)\n",
    "\n",
    "# Calling scVI seems to cause a DeprecationWarning in jupyter that we silence\n",
    "warnings.simplefilter(action='ignore', category=DeprecationWarning)"
   ]
  },
  {
   "cell_type": "code",
   "execution_count": null,
   "metadata": {},
   "outputs": [],
   "source": [
    "# Copy the nearest neighbor matrix from the scVI object to the original adata object\n",
    "adata.obsm['X_scvi'] = adata_scvi.obsm['X_scvi'].copy()\n",
    "\n",
    "# Remove the adata_scVI object to preserve memory\n",
    "del adata_scvi"
   ]
  },
  {
   "cell_type": "markdown",
   "metadata": {},
   "source": [
    "## Cluster based off alternative approaches\n"
   ]
  },
  {
   "cell_type": "code",
   "execution_count": null,
   "metadata": {},
   "outputs": [],
   "source": [
    "# Calculate the nearest neighbor and cluster based on the reduced space from SAM, MAGIC, and scVI\n",
    "# Notice how use_rep is used to specify a paticular reduction and the neighbor map is saved with key_added\n",
    "# We can then pass the neighbor map to leiden with the neighbors_key paramter and same to different\n",
    "# metadata slots in the obs shelf of the AnnData object, again with the key_added\n",
    "sc.pp.neighbors(adata, n_neighbors=10, use_rep=\"X_sam\", key_added=\"sam\")\n",
    "sc.tl.leiden(adata, resolution=0.5, neighbors_key=\"sam\", key_added=\"sam_leiden\")\n",
    "\n",
    "sc.pp.neighbors(adata, n_neighbors=10, use_rep=\"X_magic\", key_added=\"magic\")\n",
    "sc.tl.leiden(adata, resolution=0.5, neighbors_key=\"magic\", key_added=\"magic_leiden\")\n",
    "\n",
    "sc.pp.neighbors(adata, n_neighbors=10, use_rep=\"X_scvi\", key_added=\"scvi\")\n",
    "sc.tl.leiden(adata, resolution=0.5, neighbors_key=\"scvi\", key_added=\"scvi_leiden\")"
   ]
  },
  {
   "cell_type": "markdown",
   "metadata": {},
   "source": [
    "### SAM"
   ]
  },
  {
   "cell_type": "code",
   "execution_count": null,
   "metadata": {},
   "outputs": [],
   "source": [
    "# Compare SAM versus truth\n",
    "seurat_clusters = pd.read_csv(os.path.join(pwd, 'seurat_clusters.csv'), index_col=0)\n",
    "print('Leiden vs Truth AMI: ' + str(round(sk.metrics.adjusted_mutual_info_score(adata.obs.free_annotation, adata.obs.sam_leiden), 2)))"
   ]
  },
  {
   "cell_type": "code",
   "execution_count": null,
   "metadata": {},
   "outputs": [],
   "source": [
    "# Compare SAM to ground truth per tissue compartment\n",
    "for i in adata.obs.compartment.cat.categories:\n",
    "    print(i + ' AMI: ' + str(round(sk.metrics.adjusted_mutual_info_score(adata[adata.obs.compartment == i].obs.free_annotation, adata[adata.obs.compartment == i].obs.sam_leiden), 2)))"
   ]
  },
  {
   "cell_type": "markdown",
   "metadata": {},
   "source": [
    "### MAGIC"
   ]
  },
  {
   "cell_type": "code",
   "execution_count": null,
   "metadata": {},
   "outputs": [],
   "source": [
    "# Compare MAGIC versus truth\n",
    "seurat_clusters = pd.read_csv(os.path.join(pwd, 'seurat_clusters.csv'), index_col=0)\n",
    "print('Leiden vs Truth AMI: ' + str(round(sk.metrics.adjusted_mutual_info_score(adata.obs.free_annotation, adata.obs.magic_leiden), 2)))"
   ]
  },
  {
   "cell_type": "code",
   "execution_count": null,
   "metadata": {},
   "outputs": [],
   "source": [
    "# Compare MAGIC to ground truth per tissue compartment\n",
    "for i in adata.obs.compartment.cat.categories:\n",
    "    print(i + ' AMI: ' + str(round(sk.metrics.adjusted_mutual_info_score(adata[adata.obs.compartment == i].obs.free_annotation, adata[adata.obs.compartment == i].obs.magic_leiden), 2)))"
   ]
  },
  {
   "cell_type": "markdown",
   "metadata": {},
   "source": [
    "### scVI"
   ]
  },
  {
   "cell_type": "code",
   "execution_count": null,
   "metadata": {},
   "outputs": [],
   "source": [
    "# Compare scVI versus truth\n",
    "seurat_clusters = pd.read_csv(os.path.join(pwd, 'seurat_clusters.csv'), index_col=0)\n",
    "print('Leiden vs Truth AMI: ' + str(round(sk.metrics.adjusted_mutual_info_score(adata.obs.free_annotation, adata.obs.scvi_leiden), 2)))"
   ]
  },
  {
   "cell_type": "code",
   "execution_count": null,
   "metadata": {},
   "outputs": [],
   "source": [
    "# Compare scVI to ground truth per tissue compartment\n",
    "for i in adata.obs.compartment.cat.categories:\n",
    "    print(i + ' AMI: ' + str(round(sk.metrics.adjusted_mutual_info_score(adata[adata.obs.compartment == i].obs.free_annotation, adata[adata.obs.compartment == i].obs.scvi_leiden), 2)))"
   ]
  },
  {
   "cell_type": "markdown",
   "metadata": {},
   "source": [
    "**Question:** How did the more complex normalization procedures influence the clustering accuracy?"
   ]
  },
  {
   "cell_type": "markdown",
   "metadata": {},
   "source": [
    "**Answer:**"
   ]
  },
  {
   "cell_type": "markdown",
   "metadata": {},
   "source": [
    "## Subset stromal cells to refine their clustering"
   ]
  },
  {
   "cell_type": "code",
   "execution_count": null,
   "metadata": {},
   "outputs": [],
   "source": [
    "# As we did with Seurat, we can subset stromal cells specifically to improve the clustering results\n",
    "# As the adata object is continuously updated during clustering, we subset off the raw adata object\n",
    "# we stashed early on.\n",
    "#\n",
    "# If metadata were not available to subset stromal cells, you could do it by cluster with\n",
    "# adata_raw[i in ['1', '2', '3'] for i in list(adata.obs.leiden)]\n",
    "adata_stromal = adata_raw[adata.obs.compartment == \"Stromal\"]\n",
    "adata_stromal"
   ]
  },
  {
   "cell_type": "code",
   "execution_count": null,
   "metadata": {},
   "outputs": [],
   "source": [
    "# Copy UMIs to the layers shelf\n",
    "adata_stromal.layers['UMIs'] = adata_stromal.X.copy()\n",
    "\n",
    "# Log normalize UMIs per 10K\n",
    "sc.pp.normalize_total(adata_stromal, target_sum=1e4)\n",
    "sc.pp.log1p(adata_stromal)\n",
    "\n",
    "# Stash the log normalized UMIs per 10K in adata_stromal.raw.X\n",
    "adata_stromal.raw = adata_stromal"
   ]
  },
  {
   "cell_type": "code",
   "execution_count": null,
   "metadata": {},
   "outputs": [],
   "source": [
    "plt.rcParams['figure.figsize'] = [12, 6]\n",
    "\n",
    "# Identify and plot highly variable genes\n",
    "sc.pp.highly_variable_genes(adata_stromal, min_mean=0.0125, max_mean=6, min_disp=0.5)\n",
    "sc.pl.highly_variable_genes(adata_stromal)"
   ]
  },
  {
   "cell_type": "code",
   "execution_count": null,
   "metadata": {},
   "outputs": [],
   "source": [
    "# Center and scale expression values and run PCA\n",
    "sc.pp.scale(adata_stromal, max_value=10)\n",
    "sc.tl.pca(adata_stromal, svd_solver='arpack')"
   ]
  },
  {
   "cell_type": "code",
   "execution_count": null,
   "metadata": {},
   "outputs": [],
   "source": [
    "plt.rcParams['figure.figsize'] = [12, 6]\n",
    "\n",
    "sc.pl.pca_variance_ratio(adata_stromal, n_pcs=50)"
   ]
  },
  {
   "cell_type": "code",
   "execution_count": null,
   "metadata": {},
   "outputs": [],
   "source": [
    "plt.rcParams['figure.figsize'] = [12, 25]\n",
    "\n",
    "# Plot expression of the top and bottom 15 genes (based on loading) in each principle component\n",
    "# from the 250 cells with the highest or lowest scores in that component\n",
    "# Similar to Seurat's DimHeatmap() command\n",
    "genes = adata_stromal.var_names.to_series()\n",
    "for pc in range(1,26):\n",
    "    g = adata_stromal.varm['PCs'][:,pc-1]\n",
    "    o = np.argsort(g)\n",
    "    sel = np.concatenate((o[:15],o[-15:])).tolist()\n",
    "    emb = adata_stromal.obsm['X_pca'][:,pc-1]\n",
    "    # order by position on that pc\n",
    "    cells = np.append(np.argsort(emb)[:125], np.argsort(emb)[-125:])\n",
    "    tempdata = adata_stromal[cells,]\n",
    "    print('PC = ' + str(pc))\n",
    "    sc.pl.heatmap(tempdata, var_names=genes[sel].index.tolist(), swap_axes=True, groupby=None)"
   ]
  },
  {
   "cell_type": "code",
   "execution_count": null,
   "metadata": {},
   "outputs": [],
   "source": [
    "# Calculate nearest neighbor map using same parameters from Seurat\n",
    "sc.pp.neighbors(adata_stromal, n_neighbors=20, n_pcs=18)\n",
    "\n",
    "# Cluster the data using leiden algorithm\n",
    "sc.tl.leiden(adata_stromal, resolution=0.45)"
   ]
  },
  {
   "cell_type": "code",
   "execution_count": null,
   "metadata": {},
   "outputs": [],
   "source": [
    "# Project stromal cells into 2 dimensions with UMAP\n",
    "sc.tl.umap(adata_stromal)"
   ]
  },
  {
   "cell_type": "code",
   "execution_count": null,
   "metadata": {},
   "outputs": [],
   "source": [
    "# Print the AMI for the clustering compared to the ground truth\n",
    "print('Leiden vs Truth AMI: ' + str(round(sk.metrics.adjusted_mutual_info_score(adata_stromal.obs.free_annotation, adata_stromal.obs.leiden), 2)))"
   ]
  },
  {
   "cell_type": "code",
   "execution_count": null,
   "metadata": {},
   "outputs": [],
   "source": [
    "plt.rcParams['figure.figsize'] = [12, 12]\n",
    "\n",
    "# Plot the subsetted stromal cells in their new UMAP coordinates and color by\n",
    "# the ground truth annotations and the leiden clusters\n",
    "sc.pl.umap(adata_stromal, color=['leiden', 'free_annotation'], legend_loc='on data', legend_fontsize=20)"
   ]
  },
  {
   "cell_type": "code",
   "execution_count": null,
   "metadata": {},
   "outputs": [],
   "source": [
    "plt.rcParams['figure.figsize'] = [12, 12]\n",
    "sc.set_figure_params(fontsize=12)\n",
    "\n",
    "# Plot some basic meta data and marker genes\n",
    "sc.pl.umap(adata_stromal,\n",
    "           size=100,\n",
    "           color=[\"nGene\", \"percent.ribo\", # Basic QC\n",
    "                  \"COL1A2\", \"BGN\", # Stromal markers\n",
    "                  \"ACTA2\", \"MYH11\", # Contractile markers\n",
    "                  \"KCNA5\", \"DES\", # Airway smooth muscle\n",
    "                  \"HIGD1B\", \"FAM105A\", # Pericyte\n",
    "                  \"ASPN\", 'TGFBI', # Myofibroblast\n",
    "                  \"SFRP2\", \"FBLN2\", # Adventitial fibroblast\n",
    "                  \"GPC3\", \"FGFR4\", # Alveolar fibroblast\n",
    "                  \"APOE\", \"MUM1L1\", # Lipofibroblast\n",
    "                  \"UPK3B\", \"MSLN\"]) # Mesothelial cell\n",
    "           "
   ]
  },
  {
   "cell_type": "code",
   "execution_count": null,
   "metadata": {},
   "outputs": [],
   "source": [
    "# Identify differentially expressed genes in each cluster compared to all other clusters\n",
    "# p-values come from a t-test with overestimated variance with a bonferroni correction\n",
    "# See https://scanpy.readthedocs.io/en/stable/api/scanpy.tl.rank_genes_groups.html\n",
    "# for information on other tests\n",
    "sc.tl.rank_genes_groups(adata_stromal, groupby='leiden')"
   ]
  },
  {
   "cell_type": "code",
   "execution_count": null,
   "metadata": {},
   "outputs": [],
   "source": [
    "plt.rcParams['figure.figsize'] = [12, 12]\n",
    "sc.set_figure_params(fontsize=12)\n",
    "\n",
    "# Plot expression of 4 markers per cluster\n",
    "sc.pl.umap(adata_stromal, color=np.ravel(np.array(pd.DataFrame(adata_stromal.uns['rank_genes_groups']['names']).head(4).T)), size=100)"
   ]
  },
  {
   "cell_type": "code",
   "execution_count": null,
   "metadata": {},
   "outputs": [],
   "source": [
    "plt.rcParams['figure.figsize'] = [10, 10]\n",
    "\n",
    "# Map clusters to cell identities\n",
    "# Clustering has some inherent randomness and you may need to change the order\n",
    "new_cluster_names = {\n",
    "    '0': 'Adventitial Fibroblast',\n",
    "    '1': 'Airway Smooth Muscle',\n",
    "    '2': 'Pericyte',\n",
    "    '3': 'Alveolar Fibroblast',\n",
    "    '4': 'Lipofibroblast',\n",
    "    '5': 'Mesothelial',\n",
    "    '6': 'Myofibroblast'}\n",
    "adata_stromal.obs['new_annotation'] = [new_cluster_names[x] for x in adata_stromal.obs.leiden]\n",
    "sc.pl.umap(adata_stromal, color=['new_annotation'], legend_loc='on data', legend_fontsize=12)"
   ]
  },
  {
   "cell_type": "code",
   "execution_count": null,
   "metadata": {},
   "outputs": [],
   "source": [
    "# Print the percentage of correctly annotated cells\n",
    "tmp = adata_stromal.obs.free_annotation == adata_stromal.obs.new_annotation\n",
    "print('% correct: ' + str(round(100 * tmp.sum() / len(tmp), 2)))"
   ]
  },
  {
   "cell_type": "markdown",
   "metadata": {},
   "source": [
    "## Integrate 10x and SS2 data using scanpy"
   ]
  },
  {
   "cell_type": "code",
   "execution_count": null,
   "metadata": {},
   "outputs": [],
   "source": [
    "# Read in the SmartSeq2 data and sort the cells alphabetically\n",
    "adata_facs = sc.read_csv(filename=os.path.join(pwd, 'krasnow_hlca_facs_counts.csv')).T\n",
    "adata_facs = adata_facs[adata_facs.obs_names.sort_values()]\n",
    "\n",
    "# Read in the SmartSeq2 metadata and sort the cells alphabetically\n",
    "tmp = pd.read_csv(filepath_or_buffer=os.path.join(pwd, 'krasnow_hlca_facs_metadata.csv'), index_col=0).sort_index()\n",
    "adata_facs.obs = tmp.copy()\n",
    "\n",
    "# Subset the AnnData object to only data from patient 1\n",
    "adata_facs = adata_facs[adata_facs.obs.patient == 1]"
   ]
  },
  {
   "cell_type": "code",
   "execution_count": null,
   "metadata": {},
   "outputs": [],
   "source": [
    "# Write the SmartSeq2 object to an h5ad object\n",
    "adata_facs.write(os.path.join(pwd, 'krasnow_hlca_facs_raw.h5ad'))"
   ]
  },
  {
   "cell_type": "code",
   "execution_count": null,
   "metadata": {},
   "outputs": [],
   "source": [
    "# Read in SmartSeq2 h5ad file (if needed), much faster than sc.read_csv()\n",
    "#adata_facs = sc.read_h5ad(os.path.join(pwd, 'krasnow_hlca_facs_raw.h5ad'))"
   ]
  },
  {
   "cell_type": "code",
   "execution_count": null,
   "metadata": {},
   "outputs": [],
   "source": [
    "# Reset the main 10x adata object\n",
    "adata = copy.deepcopy(adata_raw)\n",
    "\n",
    "# Subset both the SmartSeq2 and 10x adata objects to include only genes they have in common\n",
    "var_names = adata.var_names.intersection(adata_facs.var_names)\n",
    "adata_ref = adata[:, var_names]\n",
    "adata_facs = adata_facs[:, var_names]"
   ]
  },
  {
   "cell_type": "code",
   "execution_count": null,
   "metadata": {},
   "outputs": [],
   "source": [
    "# Re-run scanpy pipline on new 10x adata object\n",
    "\n",
    "# Normalize UMIs to UMIs per 10K, log them, and store the ln(UMIs per 10K) in adata_ref.raw.X\n",
    "sc.pp.normalize_total(adata_ref, target_sum=1e4)\n",
    "sc.pp.log1p(adata_ref)\n",
    "adata_ref.raw = adata_ref\n",
    "\n",
    "# Select highly variable genes\n",
    "sc.pp.highly_variable_genes(adata_ref, min_mean=0.0125, max_mean=6, min_disp=0.5)\n",
    "\n",
    "# Center and scale log normalized expression values and run PCA\n",
    "sc.pp.scale(adata_ref, max_value=10)\n",
    "sc.pp.pca(adata_ref, svd_solver='arpack')\n",
    "\n",
    "# Build the nearest neighbor tree and compute UMAP coordinates\n",
    "sc.pp.neighbors(adata_ref, n_neighbors=10, n_pcs=50)\n",
    "sc.tl.umap(adata_ref)"
   ]
  },
  {
   "cell_type": "code",
   "execution_count": null,
   "metadata": {},
   "outputs": [],
   "source": [
    "plt.rcParams['figure.figsize'] = [12, 12]\n",
    "\n",
    "# Plot the 10x cells by UMAP coordinates, colored by their ground truth annotations\n",
    "sc.pl.umap(adata_ref, color=['free_annotation'], legend_loc='on data', legend_fontsize=10)"
   ]
  },
  {
   "cell_type": "code",
   "execution_count": null,
   "metadata": {},
   "outputs": [],
   "source": [
    "# Stash the ground truth annotations in a new metadata column in the obs shelf of the adata object\n",
    "adata_facs.obs['orig_annotation'] = adata_facs.obs.free_annotation.copy()\n",
    "\n",
    "# Run the scanpy data ingest() command on the SmartSeq2 dataset, using the new 10x object as a reference\n",
    "# Request scanpy assign the SmartSeq2 cells a free_annotation based on its nearest neighbors in the 10x dataset\n",
    "sc.tl.ingest(adata_facs, adata_ref, obs='free_annotation')"
   ]
  },
  {
   "cell_type": "code",
   "execution_count": null,
   "metadata": {},
   "outputs": [],
   "source": [
    "plt.rcParams['figure.figsize'] = [12, 12]\n",
    "\n",
    "# Plot the SmartSeq2 cells emedded in the 10x objects' coordinates \n",
    "# Color by the ground truth annotation (orig_annotation) and scanpy's guess\n",
    "sc.pl.umap(adata_facs, color=['orig_annotation', 'free_annotation'], legend_loc='on data', legend_fontsize=10)"
   ]
  },
  {
   "cell_type": "code",
   "execution_count": null,
   "metadata": {},
   "outputs": [],
   "source": [
    "# free_annotation and orig_annotation are both set to categorical series by scanpy\n",
    "# As there is not perfect overlap in the constituent groups, we need to convert them to strings\n",
    "# with the astype() function from the pandas library\n",
    "adata_facs.obs.orig_annotation = adata_facs.obs.orig_annotation.astype(str)\n",
    "adata_facs.obs.free_annotation = adata_facs.obs.free_annotation.astype(str)\n",
    "\n",
    "# Create a temporary boolean comparing the two and then print the number of correct calls\n",
    "tmp = adata_facs.obs.free_annotation == adata_facs.obs.orig_annotation\n",
    "print('Total % correct: ' + str(round(100 * tmp.sum() / len(tmp), 2)))"
   ]
  },
  {
   "cell_type": "code",
   "execution_count": null,
   "metadata": {},
   "outputs": [],
   "source": [
    "# The with command can be used to run another command with certain global parameters set\n",
    "# In this case, we are preventing pandas from restricting the number of rows and columns shown\n",
    "with pd.option_context('display.max_rows', None, 'display.max_columns', None):\n",
    "    \n",
    "    # Use the groupby() command from the pandas library to summarize each cells\n",
    "    # ground truth and predicted annotations\n",
    "    print(adata_facs.obs.groupby([\"orig_annotation\", \"free_annotation\"]).size().reset_index(name=\"Number\"))"
   ]
  },
  {
   "cell_type": "code",
   "execution_count": null,
   "metadata": {},
   "outputs": [],
   "source": [
    "with pd.option_context('display.max_rows', None, 'display.max_columns', None):\n",
    "    \n",
    "    # Use the groupby() command from the pandas library to show \n",
    "    # the number of cells in each ground truth type\n",
    "    print(adata_facs.obs.groupby([\"orig_annotation\"]).size().reset_index(name=\"Number\"))"
   ]
  },
  {
   "cell_type": "code",
   "execution_count": null,
   "metadata": {},
   "outputs": [],
   "source": [
    "with pd.option_context('display.max_rows', None, 'display.max_columns', None):\n",
    "    \n",
    "    # Use the groupby() command from the pandas library to show \n",
    "    # the number of cells in each predicted type\n",
    "    print(adata_ref.obs.groupby([\"free_annotation\"]).size().reset_index(name=\"Number\"))"
   ]
  },
  {
   "cell_type": "markdown",
   "metadata": {},
   "source": [
    "**Question:** Looking carefully at scanpy's accuracy and what cell types exist in both datasets, why do you think it struggled and succeeded where it did?"
   ]
  },
  {
   "cell_type": "markdown",
   "metadata": {},
   "source": [
    "**Answer:**"
   ]
  }
 ],
 "metadata": {
  "kernelspec": {
   "display_name": "Python 3",
   "language": "python",
   "name": "python3"
  },
  "language_info": {
   "codemirror_mode": {
    "name": "ipython",
    "version": 3
   },
   "file_extension": ".py",
   "mimetype": "text/x-python",
   "name": "python",
   "nbconvert_exporter": "python",
   "pygments_lexer": "ipython3",
   "version": "3.8.5"
  }
 },
 "nbformat": 4,
 "nbformat_minor": 4
}
